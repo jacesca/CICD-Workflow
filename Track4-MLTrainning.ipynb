{
 "cells": [
  {
   "cell_type": "markdown",
   "id": "fe4cdfd8-66e0-4a3a-946e-9fca637e0c8b",
   "metadata": {},
   "source": [
    "# 4. Comparing training runs and Hyperparameter (HP) tuning\n",
    "\n",
    "In this chapter, you will direct your attention towards the analysis of model performance and the fine-tuning of hyperparameters. You will acquire practical expertise in comparing metrics and visualizations across different branches to assess changes in model performance. You will conduct hyperparameter tuning using scikit-learn's GridSearchCV. Furthermore, you will delve into the automation of pull requests using the optimal model configuration.\n",
    "\n",
    "## 4.1 Comparing metrics and plots in DVC"
   ]
  },
  {
   "cell_type": "markdown",
   "id": "dc93e548-c038-4eb6-b459-fbd5631d214f",
   "metadata": {},
   "source": [
    "### Running the process manually"
   ]
  },
  {
   "cell_type": "code",
   "execution_count": 1,
   "id": "5687ee52-c71b-4fe3-9ee9-a3881f8c2887",
   "metadata": {},
   "outputs": [
    {
     "name": "stdout",
     "output_type": "stream",
     "text": [
      "====================Test Set Metrics==================\n",
      "{\n",
      "  \"accuracy\": 0.947,\n",
      "  \"precision\": 0.988,\n",
      "  \"recall\": 0.7702,\n",
      "  \"f1_score\": 0.8656\n",
      "}\n",
      "======================================================\n"
     ]
    }
   ],
   "source": [
    "!python .\\ml-example3\\preprocess_data.py\n",
    "!python .\\ml-example3\\train.py"
   ]
  },
  {
   "cell_type": "markdown",
   "id": "f0053ba0-0142-457f-a6ad-8ae2e8e956a3",
   "metadata": {},
   "source": [
    "### Preparing the environment"
   ]
  },
  {
   "cell_type": "code",
   "execution_count": 2,
   "id": "8bf29a90-9d4e-4e93-9c85-61333ed3c7b9",
   "metadata": {},
   "outputs": [
    {
     "name": "stderr",
     "output_type": "stream",
     "text": [
      "The following paths are ignored by one of your .gitignore files:\n",
      "ml-example3/processed-data/weather.csv\n",
      "hint: Use -f if you really want to add them.\n",
      "hint: Disable this message with \"git config advice.addIgnoredFile false\"\n",
      "The following paths are ignored by one of your .gitignore files:\n",
      "ml-example3/evaluation-result/confusion_matrix.png\n",
      "hint: Use -f if you really want to add them.\n",
      "hint: Disable this message with \"git config advice.addIgnoredFile false\"\n"
     ]
    },
    {
     "name": "stdout",
     "output_type": "stream",
     "text": [
      "On branch myfeature\n",
      "Changes not staged for commit:\n",
      "  (use \"git add <file>...\" to update what will be committed)\n",
      "  (use \"git restore <file>...\" to discard changes in working directory)\n",
      "\tmodified:   Track4-MLTrainning.ipynb\n",
      "\n",
      "no changes added to commit (use \"git add\" and/or \"git commit -a\")\n"
     ]
    },
    {
     "name": "stderr",
     "output_type": "stream",
     "text": [
      "fatal: pathspec 'ml-example3\\processed-data\\weather.csv' did not match any files\n",
      "fatal: pathspec 'ml-example3\\evaluation-result\\confusion_matrix.png' did not match any files\n"
     ]
    },
    {
     "name": "stdout",
     "output_type": "stream",
     "text": [
      "On branch myfeature\n",
      "Changes not staged for commit:\n",
      "  (use \"git add <file>...\" to update what will be committed)\n",
      "  (use \"git restore <file>...\" to discard changes in working directory)\n",
      "\tmodified:   Track4-MLTrainning.ipynb\n",
      "\n",
      "no changes added to commit (use \"git add\" and/or \"git commit -a\")\n"
     ]
    }
   ],
   "source": [
    "# Removing files from git versioning\n",
    "# To ensure this files can be tracked in dvc.\n",
    "!git add ml-example3\\processed-data\\weather.csv\n",
    "!git add ml-example3\\evaluation-result\\confusion_matrix.png\n",
    "!git commit -m \"tracking ml-ex3 .. weather.cs and confusion_matrix.png\"\n",
    "!git rm -r --cached ml-example3\\processed-data\\weather.csv\n",
    "!git rm -r --cached ml-example3\\evaluation-result\\confusion_matrix.png\n",
    "!git commit -m \"stop tracking ml-ex3 .. weather.cs and confusion_matrix.png\""
   ]
  },
  {
   "cell_type": "code",
   "execution_count": 3,
   "id": "72906da7-5826-4f5f-88f5-94b177f3fea6",
   "metadata": {},
   "outputs": [],
   "source": [
    "# Removing any previous `dvc.yaml` file\n",
    "# Removing any existing previous yml file\n",
    "!del dvc.yaml"
   ]
  },
  {
   "cell_type": "markdown",
   "id": "103f647c-10df-4508-bd46-93dd49088d9f",
   "metadata": {},
   "source": [
    "### Working with DVC pipeline for `ml-example3`"
   ]
  },
  {
   "cell_type": "code",
   "execution_count": 4,
   "id": "e8186b49-3716-47d6-8322-6174ac5221e2",
   "metadata": {},
   "outputs": [],
   "source": [
    "# Prepare the yaml file\n",
    "yml_str = f\"\"\"\n",
    "stages:\n",
    "  preprocess:\n",
    "    cmd: python ml-example3/preprocess_data.py\n",
    "    deps:\n",
    "    - ml-example3/raw-data/weather.csv\n",
    "    - ml-example3/preprocess_data.py\n",
    "    - ml-example3/utils_and_constants.py\n",
    "    outs:\n",
    "    - ml-example3/processed-data/weather.csv\n",
    "  train:\n",
    "    cmd: python ml-example3/train.py\n",
    "    deps:\n",
    "    - ml-example3/metrics_and_plots.py\n",
    "    - ml-example3/model.py\n",
    "    - ml-example3/processed-data/weather.csv\n",
    "    - ml-example3/train.py\n",
    "    - ml-example3/utils_and_constants.py\n",
    "    outs:\n",
    "    - ml-example3/evaluation-result/confusion_matrix.png\n",
    "    metrics:\n",
    "      - ml-example3/evaluation-result/metrics.json:\n",
    "          cache: false\n",
    "    plots:\n",
    "      - ml-example3/evaluation-result/predictions.csv:\n",
    "          template: confusion_normalized\n",
    "          x: predicted_label\n",
    "          y: true_label\n",
    "          x_label: 'Predicted label'\n",
    "          y_label: 'True label'\n",
    "          title: Confusion matrix\n",
    "          cache: false\n",
    "\"\"\"\n",
    "with open(\"dvc.yaml\", \"w\") as f:\n",
    "    f.write(yml_str)"
   ]
  },
  {
   "cell_type": "code",
   "execution_count": 5,
   "id": "0e9b6bec-2373-4c10-8c11-0099c618eecf",
   "metadata": {},
   "outputs": [
    {
     "name": "stdout",
     "output_type": "stream",
     "text": [
      "\n",
      "stages:\n",
      "  preprocess:\n",
      "    cmd: python ml-example3/preprocess_data.py\n",
      "    deps:\n",
      "    - ml-example3/raw-data/weather.csv\n",
      "    - ml-example3/preprocess_data.py\n",
      "    - ml-example3/utils_and_constants.py\n",
      "    outs:\n",
      "    - ml-example3/processed-data/weather.csv\n",
      "  train:\n",
      "    cmd: python ml-example3/train.py\n",
      "    deps:\n",
      "    - ml-example3/metrics_and_plots.py\n",
      "    - ml-example3/model.py\n",
      "    - ml-example3/processed-data/weather.csv\n",
      "    - ml-example3/train.py\n",
      "    - ml-example3/utils_and_constants.py\n",
      "    outs:\n",
      "    - ml-example3/evaluation-result/confusion_matrix.png\n",
      "    metrics:\n",
      "      - ml-example3/evaluation-result/metrics.json:\n",
      "          cache: false\n",
      "    plots:\n",
      "      - ml-example3/evaluation-result/predictions.csv:\n",
      "          template: confusion_normalized\n",
      "          x: predicted_label\n",
      "          y: true_label\n",
      "          x_label: 'Predicted label'\n",
      "          y_label: 'True label'\n",
      "          title: Confusion matrix\n",
      "          cache: false\n"
     ]
    }
   ],
   "source": [
    "# Reviewing the dvc.yaml file\n",
    "!more dvc.yaml"
   ]
  },
  {
   "cell_type": "code",
   "execution_count": 6,
   "id": "2445fc38-fdb1-4c5c-9f1c-e89dce7407e2",
   "metadata": {},
   "outputs": [
    {
     "name": "stdout",
     "output_type": "stream",
     "text": [
      "+------------+ \n",
      "| preprocess | \n",
      "+------------+ \n",
      "       *       \n",
      "       *       \n",
      "       *       \n",
      "  +-------+    \n",
      "  | train |    \n",
      "  +-------+    \n"
     ]
    }
   ],
   "source": [
    "# Reviewing the process\n",
    "!dvc dag"
   ]
  },
  {
   "cell_type": "code",
   "execution_count": 7,
   "id": "63be843b-fbd3-4f4c-ace8-606f7bc4344a",
   "metadata": {},
   "outputs": [
    {
     "name": "stdout",
     "output_type": "stream",
     "text": [
      "Stage 'preprocess' didn't change, skipping\n",
      "Stage 'train' didn't change, skipping\n",
      "Data and pipelines are up to date.\n"
     ]
    }
   ],
   "source": [
    "# Reviewing the comands that the pipeline will execute:\n",
    "!dvc repro --dry"
   ]
  },
  {
   "cell_type": "code",
   "execution_count": 8,
   "id": "96ee6d89-628d-463e-8bc3-e5379c6c7272",
   "metadata": {},
   "outputs": [
    {
     "name": "stdout",
     "output_type": "stream",
     "text": [
      "Stage 'preprocess' didn't change, skipping\n",
      "Stage 'train' didn't change, skipping\n",
      "Data and pipelines are up to date.\n"
     ]
    }
   ],
   "source": [
    "!dvc repro"
   ]
  },
  {
   "cell_type": "markdown",
   "id": "10dddf3c-ec7d-48bf-a758-135d3a876b7e",
   "metadata": {},
   "source": [
    "### Querying and comparing DVC metrics"
   ]
  },
  {
   "cell_type": "code",
   "execution_count": 9,
   "id": "11eb6513-fa0a-42bf-bc22-98ec01e81a13",
   "metadata": {},
   "outputs": [
    {
     "name": "stdout",
     "output_type": "stream",
     "text": [
      "Path                                        accuracy    f1_score    precision    recall\n",
      "ml-example3\\evaluation-result\\metrics.json  0.947       0.8656      0.988        0.7702\n"
     ]
    }
   ],
   "source": [
    "!dvc metrics show"
   ]
  },
  {
   "cell_type": "markdown",
   "id": "cde38db9-40a8-4f1f-a778-75d7546e596d",
   "metadata": {},
   "source": [
    "### Commiting changes in myfeature branch"
   ]
  },
  {
   "cell_type": "code",
   "execution_count": 11,
   "id": "c11662c6-41aa-4c5f-aef2-3385eed05469",
   "metadata": {},
   "outputs": [
    {
     "name": "stdout",
     "output_type": "stream",
     "text": [
      "  master\n",
      "* myfeature\n",
      "M\tTrack4-MLTrainning.ipynb\n"
     ]
    },
    {
     "name": "stderr",
     "output_type": "stream",
     "text": [
      "Already on 'myfeature'\n"
     ]
    }
   ],
   "source": [
    "!git branch\n",
    "!git checkout myfeature"
   ]
  },
  {
   "cell_type": "code",
   "execution_count": 12,
   "id": "6ce9b333-ea23-464b-8b79-bc3933acb8c0",
   "metadata": {},
   "outputs": [
    {
     "name": "stdout",
     "output_type": "stream",
     "text": [
      "Everything is up to date.\n"
     ]
    },
    {
     "name": "stderr",
     "output_type": "stream",
     "text": [
      "warning: in the working copy of 'Track4-MLTrainning.ipynb', LF will be replaced by CRLF the next time Git touches it\n"
     ]
    },
    {
     "name": "stdout",
     "output_type": "stream",
     "text": [
      "[myfeature 1c3a9f1] DVC Pipeline for ml-example3\n",
      " 1 file changed, 40 insertions(+), 60 deletions(-)\n"
     ]
    },
    {
     "name": "stderr",
     "output_type": "stream",
     "text": [
      "To https://github.com/jacesca/CICD-Workflow.git\n",
      "   4cd58d7..1c3a9f1  myfeature -> myfeature\n"
     ]
    }
   ],
   "source": [
    "!dvc push\n",
    "!git add .\n",
    "!git commit -m \"DVC Pipeline for ml-example3\"\n",
    "!git push origin myfeature"
   ]
  },
  {
   "cell_type": "markdown",
   "id": "5c4c24c7-b91b-40b1-a9f9-9ee649e3a082",
   "metadata": {},
   "source": [
    "### Ex.1 - Adding metrics and plots to dvc.yaml\n",
    "In this exercise, your task is to complete the contents of dvc.yaml that defines a model training workflow.\n",
    "\n",
    "Here preprocess_dataset.py and train.py are the files that perform data preprocessing and model training by taking weather.csv as input in the raw_dataset folder. As output, the model training code generates a predictions.csv file that contains the predictions and the ground truth, and metrics.json file containing structured metrics data. The former would be used to generate a normalized confusion matrix plot for comparing it with previous commits.\n",
    "\n",
    "**Instruction**\n",
    "1. Set the metrics target to the output metrics file.\n",
    "2. Set the plot target to the output file containing predictions data.\n",
    "3. Set the plot template to confusion_normalized to plot the normalized confusion matrix.\n",
    "4. Set the correct value for cache key to track plots in Git repository instead of DVC remote."
   ]
  },
  {
   "cell_type": "code",
   "execution_count": 13,
   "id": "47473e67-c609-422a-aa67-e0e02760cd29",
   "metadata": {},
   "outputs": [
    {
     "name": "stdout",
     "output_type": "stream",
     "text": [
      "\n",
      "stages:\n",
      "  preprocess:\n",
      "    cmd: python ml-example3/preprocess_data.py\n",
      "    deps:\n",
      "    - ml-example3/raw-data/weather.csv\n",
      "    - ml-example3/preprocess_data.py\n",
      "    - ml-example3/utils_and_constants.py\n",
      "    outs:\n",
      "    - ml-example3/processed-data/weather.csv\n",
      "  train:\n",
      "    cmd: python ml-example3/train.py\n",
      "    deps:\n",
      "    - ml-example3/metrics_and_plots.py\n",
      "    - ml-example3/model.py\n",
      "    - ml-example3/processed-data/weather.csv\n",
      "    - ml-example3/train.py\n",
      "    - ml-example3/utils_and_constants.py\n",
      "    outs:\n",
      "    - ml-example3/evaluation-result/confusion_matrix.png\n",
      "    metrics:\n",
      "      - ml-example3/evaluation-result/metrics.json:\n",
      "          cache: false\n",
      "    plots:\n",
      "      - ml-example3/evaluation-result/predictions.csv:\n",
      "          template: confusion_normalized\n",
      "          x: predicted_label\n",
      "          y: true_label\n",
      "          x_label: 'Predicted label'\n",
      "          y_label: 'True label'\n",
      "          title: Confusion matrix\n",
      "          cache: false\n"
     ]
    }
   ],
   "source": [
    "!more dvc.yaml"
   ]
  },
  {
   "cell_type": "code",
   "execution_count": null,
   "id": "9b57a063-05b9-4c55-a881-0e0de8757d21",
   "metadata": {},
   "outputs": [],
   "source": []
  }
 ],
 "metadata": {
  "kernelspec": {
   "display_name": "Python 3 (ipykernel)",
   "language": "python",
   "name": "python3"
  },
  "language_info": {
   "codemirror_mode": {
    "name": "ipython",
    "version": 3
   },
   "file_extension": ".py",
   "mimetype": "text/x-python",
   "name": "python",
   "nbconvert_exporter": "python",
   "pygments_lexer": "ipython3",
   "version": "3.11.9"
  }
 },
 "nbformat": 4,
 "nbformat_minor": 5
}
