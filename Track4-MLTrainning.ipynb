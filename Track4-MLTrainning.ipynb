{
 "cells": [
  {
   "cell_type": "markdown",
   "id": "fe4cdfd8-66e0-4a3a-946e-9fca637e0c8b",
   "metadata": {},
   "source": [
    "# 4. Comparing training runs and Hyperparameter (HP) tuning\n",
    "\n",
    "In this chapter, you will direct your attention towards the analysis of model performance and the fine-tuning of hyperparameters. You will acquire practical expertise in comparing metrics and visualizations across different branches to assess changes in model performance. You will conduct hyperparameter tuning using scikit-learn's GridSearchCV. Furthermore, you will delve into the automation of pull requests using the optimal model configuration.\n",
    "\n",
    "## Documentation\n",
    "\n",
    "- [Convert a HTML page to Markdown in GitHub Actions](https://github.com/marketplace/actions/convert-html-to-markdown)\n",
    "\n",
    "## 4.1 Comparing metrics and plots in DVC"
   ]
  },
  {
   "cell_type": "markdown",
   "id": "f0053ba0-0142-457f-a6ad-8ae2e8e956a3",
   "metadata": {},
   "source": [
    "### Preparing the environment"
   ]
  },
  {
   "cell_type": "code",
   "execution_count": 1,
   "id": "08fda363-c74a-42fd-8479-ec824912f011",
   "metadata": {},
   "outputs": [
    {
     "name": "stderr",
     "output_type": "stream",
     "text": [
      "Already on 'myfeature'\n"
     ]
    },
    {
     "name": "stdout",
     "output_type": "stream",
     "text": [
      "Already up to date.\n"
     ]
    },
    {
     "name": "stderr",
     "output_type": "stream",
     "text": [
      "From https://github.com/jacesca/CICD-Workflow\n",
      " * branch            myfeature  -> FETCH_HEAD\n"
     ]
    }
   ],
   "source": [
    "# Moving to myfeature\n",
    "!git checkout myfeature\n",
    "!git pull origin myfeature"
   ]
  },
  {
   "cell_type": "code",
   "execution_count": 2,
   "id": "8bf29a90-9d4e-4e93-9c85-61333ed3c7b9",
   "metadata": {},
   "outputs": [
    {
     "name": "stderr",
     "output_type": "stream",
     "text": [
      "The following paths are ignored by one of your .gitignore files:\n",
      "ml-example3/processed-data/weather.csv\n",
      "hint: Use -f if you really want to add them.\n",
      "hint: Disable this message with \"git config advice.addIgnoredFile false\"\n",
      "The following paths are ignored by one of your .gitignore files:\n",
      "ml-example3/evaluation-result/confusion_matrix.png\n",
      "hint: Use -f if you really want to add them.\n",
      "hint: Disable this message with \"git config advice.addIgnoredFile false\"\n"
     ]
    },
    {
     "name": "stdout",
     "output_type": "stream",
     "text": [
      "On branch myfeature\n",
      "nothing to commit, working tree clean\n"
     ]
    },
    {
     "name": "stderr",
     "output_type": "stream",
     "text": [
      "fatal: pathspec 'ml-example3\\processed-data\\weather.csv' did not match any files\n",
      "fatal: pathspec 'ml-example3\\evaluation-result\\confusion_matrix.png' did not match any files\n"
     ]
    },
    {
     "name": "stdout",
     "output_type": "stream",
     "text": [
      "On branch myfeature\n",
      "nothing to commit, working tree clean\n"
     ]
    }
   ],
   "source": [
    "# Removing files from git versioning\n",
    "# To ensure this files can be tracked in dvc.\n",
    "!git add ml-example3\\processed-data\\weather.csv\n",
    "!git add ml-example3\\evaluation-result\\confusion_matrix.png\n",
    "!git commit -m \"tracking ml-ex3 .. weather.cs and confusion_matrix.png\"\n",
    "!git rm -r --cached ml-example3\\processed-data\\weather.csv\n",
    "!git rm -r --cached ml-example3\\evaluation-result\\confusion_matrix.png\n",
    "!git commit -m \"stop tracking ml-ex3 .. weather.cs and confusion_matrix.png\""
   ]
  },
  {
   "cell_type": "code",
   "execution_count": 3,
   "id": "deba6ab4-0f48-44ba-aa4b-6307da119916",
   "metadata": {},
   "outputs": [],
   "source": [
    "# Ensuring RFC_FOREST_DEPTH=2\n",
    "with open(\"dvc.yaml\", \"w\") as f:\n",
    "    f.write('RFC_FOREST_DEPTH=2\\n')"
   ]
  },
  {
   "cell_type": "code",
   "execution_count": 4,
   "id": "72906da7-5826-4f5f-88f5-94b177f3fea6",
   "metadata": {},
   "outputs": [],
   "source": [
    "# Removing any previous `dvc.yaml` file\n",
    "# Removing any existing previous yml file\n",
    "!del dvc.yaml"
   ]
  },
  {
   "cell_type": "markdown",
   "id": "dc93e548-c038-4eb6-b459-fbd5631d214f",
   "metadata": {},
   "source": [
    "### Running the process manually"
   ]
  },
  {
   "cell_type": "code",
   "execution_count": 5,
   "id": "5687ee52-c71b-4fe3-9ee9-a3881f8c2887",
   "metadata": {
    "scrolled": true
   },
   "outputs": [
    {
     "name": "stdout",
     "output_type": "stream",
     "text": [
      "====================Test Set Metrics==================\n",
      "{\n",
      "  \"accuracy\": 0.947,\n",
      "  \"precision\": 0.988,\n",
      "  \"recall\": 0.7702,\n",
      "  \"f1_score\": 0.8656\n",
      "}\n",
      "======================================================\n"
     ]
    }
   ],
   "source": [
    "!python .\\ml-example3\\preprocess_data.py\n",
    "!python .\\ml-example3\\train.py"
   ]
  },
  {
   "cell_type": "markdown",
   "id": "103f647c-10df-4508-bd46-93dd49088d9f",
   "metadata": {},
   "source": [
    "### Working with DVC pipeline for `ml-example3`"
   ]
  },
  {
   "cell_type": "code",
   "execution_count": 6,
   "id": "e8186b49-3716-47d6-8322-6174ac5221e2",
   "metadata": {},
   "outputs": [],
   "source": [
    "# Prepare the yaml file\n",
    "yml_str = f\"\"\"\n",
    "stages:\n",
    "  preprocess:\n",
    "    cmd: python ml-example3/preprocess_data.py\n",
    "    deps:\n",
    "    - ml-example3/raw-data/weather.csv\n",
    "    - ml-example3/preprocess_data.py\n",
    "    - ml-example3/utils_and_constants.py\n",
    "    outs:\n",
    "    - ml-example3/processed-data/weather.csv\n",
    "  train:\n",
    "    cmd: python ml-example3/train.py\n",
    "    deps:\n",
    "    - ml-example3/metrics_and_plots.py\n",
    "    - ml-example3/model.py\n",
    "    - ml-example3/processed-data/weather.csv\n",
    "    - ml-example3/train.py\n",
    "    - ml-example3/utils_and_constants.py\n",
    "    outs:\n",
    "    - ml-example3/evaluation-result/confusion_matrix.png\n",
    "    metrics:\n",
    "      - ml-example3/evaluation-result/metrics.json:\n",
    "          cache: false\n",
    "    plots:\n",
    "      - ml-example3/evaluation-result/predictions.csv:\n",
    "          template: confusion_normalized\n",
    "          x: predicted_label\n",
    "          y: true_label\n",
    "          x_label: 'Predicted label'\n",
    "          y_label: 'True label'\n",
    "          title: Confusion matrix\n",
    "          cache: false\n",
    "\"\"\"\n",
    "with open(\"dvc.yaml\", \"w\") as f:\n",
    "    f.write(yml_str)"
   ]
  },
  {
   "cell_type": "code",
   "execution_count": 7,
   "id": "0e9b6bec-2373-4c10-8c11-0099c618eecf",
   "metadata": {},
   "outputs": [
    {
     "name": "stdout",
     "output_type": "stream",
     "text": [
      "\n",
      "stages:\n",
      "  preprocess:\n",
      "    cmd: python ml-example3/preprocess_data.py\n",
      "    deps:\n",
      "    - ml-example3/raw-data/weather.csv\n",
      "    - ml-example3/preprocess_data.py\n",
      "    - ml-example3/utils_and_constants.py\n",
      "    outs:\n",
      "    - ml-example3/processed-data/weather.csv\n",
      "  train:\n",
      "    cmd: python ml-example3/train.py\n",
      "    deps:\n",
      "    - ml-example3/metrics_and_plots.py\n",
      "    - ml-example3/model.py\n",
      "    - ml-example3/processed-data/weather.csv\n",
      "    - ml-example3/train.py\n",
      "    - ml-example3/utils_and_constants.py\n",
      "    outs:\n",
      "    - ml-example3/evaluation-result/confusion_matrix.png\n",
      "    metrics:\n",
      "      - ml-example3/evaluation-result/metrics.json:\n",
      "          cache: false\n",
      "    plots:\n",
      "      - ml-example3/evaluation-result/predictions.csv:\n",
      "          template: confusion_normalized\n",
      "          x: predicted_label\n",
      "          y: true_label\n",
      "          x_label: 'Predicted label'\n",
      "          y_label: 'True label'\n",
      "          title: Confusion matrix\n",
      "          cache: false\n"
     ]
    }
   ],
   "source": [
    "# Reviewing the dvc.yaml file\n",
    "!more dvc.yaml"
   ]
  },
  {
   "cell_type": "code",
   "execution_count": 8,
   "id": "2445fc38-fdb1-4c5c-9f1c-e89dce7407e2",
   "metadata": {},
   "outputs": [
    {
     "name": "stdout",
     "output_type": "stream",
     "text": [
      "+------------+ \n",
      "| preprocess | \n",
      "+------------+ \n",
      "       *       \n",
      "       *       \n",
      "       *       \n",
      "  +-------+    \n",
      "  | train |    \n",
      "  +-------+    \n"
     ]
    }
   ],
   "source": [
    "# Reviewing the process\n",
    "!dvc dag"
   ]
  },
  {
   "cell_type": "code",
   "execution_count": 9,
   "id": "63be843b-fbd3-4f4c-ace8-606f7bc4344a",
   "metadata": {},
   "outputs": [
    {
     "name": "stdout",
     "output_type": "stream",
     "text": [
      "Stage 'preprocess' didn't change, skipping\n",
      "Stage 'train' didn't change, skipping\n",
      "Data and pipelines are up to date.\n"
     ]
    }
   ],
   "source": [
    "# Reviewing the comands that the pipeline will execute:\n",
    "!dvc repro --dry"
   ]
  },
  {
   "cell_type": "code",
   "execution_count": 10,
   "id": "96ee6d89-628d-463e-8bc3-e5379c6c7272",
   "metadata": {},
   "outputs": [
    {
     "name": "stdout",
     "output_type": "stream",
     "text": [
      "Stage 'preprocess' didn't change, skipping\n",
      "Stage 'train' didn't change, skipping\n",
      "Data and pipelines are up to date.\n"
     ]
    }
   ],
   "source": [
    "!dvc repro"
   ]
  },
  {
   "cell_type": "markdown",
   "id": "10dddf3c-ec7d-48bf-a758-135d3a876b7e",
   "metadata": {},
   "source": [
    "### Querying and comparing DVC metrics"
   ]
  },
  {
   "cell_type": "code",
   "execution_count": 11,
   "id": "11eb6513-fa0a-42bf-bc22-98ec01e81a13",
   "metadata": {},
   "outputs": [
    {
     "name": "stdout",
     "output_type": "stream",
     "text": [
      "Path                                        accuracy    f1_score    precision    recall\n",
      "ml-example3\\evaluation-result\\metrics.json  0.947       0.8656      0.988        0.7702\n"
     ]
    }
   ],
   "source": [
    "!dvc metrics show"
   ]
  },
  {
   "cell_type": "code",
   "execution_count": 12,
   "id": "bf4a7831-8311-446f-8c1e-bd9de2a982dc",
   "metadata": {},
   "outputs": [
    {
     "name": "stdout",
     "output_type": "stream",
     "text": [
      "| Path                                       | accuracy   | f1_score   | precision   | recall   |\n",
      "|--------------------------------------------|------------|------------|-------------|----------|\n",
      "| ml-example3\\evaluation-result\\metrics.json | 0.947      | 0.8656     | 0.988       | 0.7702   |\n",
      "\n"
     ]
    }
   ],
   "source": [
    "!dvc metrics show --md"
   ]
  },
  {
   "cell_type": "code",
   "execution_count": 13,
   "id": "49ec587e-3186-4ab0-9f85-201dda5bac7f",
   "metadata": {},
   "outputs": [
    {
     "name": "stdout",
     "output_type": "stream",
     "text": [
      "Path                                        Metric     HEAD    workspace    Change\n",
      "ml-example3\\evaluation-result\\metrics.json  accuracy   0.947   0.947        0.0\n",
      "ml-example3\\evaluation-result\\metrics.json  f1_score   0.8656  0.8656       0.0\n",
      "ml-example3\\evaluation-result\\metrics.json  precision  0.988   0.988        0.0\n",
      "ml-example3\\evaluation-result\\metrics.json  recall     0.7702  0.7702       0.0\n"
     ]
    }
   ],
   "source": [
    "!dvc metrics diff --all"
   ]
  },
  {
   "cell_type": "code",
   "execution_count": 14,
   "id": "1029f705-a163-4c61-afa3-8db50c9eef24",
   "metadata": {},
   "outputs": [
    {
     "name": "stdout",
     "output_type": "stream",
     "text": [
      "Path                                        Metric     HEAD    workspace    Change\n",
      "ml-example3\\evaluation-result\\metrics.json  accuracy   0.947   0.947        0.0\n",
      "ml-example3\\evaluation-result\\metrics.json  f1_score   0.8656  0.8656       0.0\n",
      "ml-example3\\evaluation-result\\metrics.json  precision  0.988   0.988        0.0\n",
      "ml-example3\\evaluation-result\\metrics.json  recall     0.7702  0.7702       0.0\n"
     ]
    }
   ],
   "source": [
    "# Compare metrics with main branch\n",
    "!git fetch --prune\n",
    "!dvc metrics diff HEAD --all"
   ]
  },
  {
   "cell_type": "markdown",
   "id": "cde38db9-40a8-4f1f-a778-75d7546e596d",
   "metadata": {},
   "source": [
    "### Commiting changes in myfeature branch"
   ]
  },
  {
   "cell_type": "code",
   "execution_count": 15,
   "id": "6ce9b333-ea23-464b-8b79-bc3933acb8c0",
   "metadata": {},
   "outputs": [
    {
     "name": "stdout",
     "output_type": "stream",
     "text": [
      "Everything is up to date.\n",
      "On branch myfeature\n",
      "nothing to commit, working tree clean\n"
     ]
    },
    {
     "name": "stderr",
     "output_type": "stream",
     "text": [
      "Everything up-to-date\n"
     ]
    }
   ],
   "source": [
    "!dvc push\n",
    "!git add .\n",
    "!git commit -m \"DVC Pipeline for ml-example3\"\n",
    "!git push origin myfeature"
   ]
  },
  {
   "cell_type": "markdown",
   "id": "27c56cb3-db87-4d54-abca-48dd0696aaf9",
   "metadata": {},
   "source": [
    "### Setting up DVC Github Action\n",
    "\n",
    "```\n",
    "name: comments-ml-example3\n",
    "\n",
    "on:\n",
    "  pull_request:\n",
    "    branches: [\"master\", \"myfeature\"]\n",
    "\n",
    "permissions: write-all\n",
    "\n",
    "jobs:\n",
    "  train_and_test_model_ml2:\n",
    "    runs-on: ubuntu-latest\n",
    "    steps:\n",
    "      - name: Checkout\n",
    "        uses: actions/checkout@v4\n",
    "\n",
    "      - name: Setup Python\n",
    "        uses: actions/setup-python@v5\n",
    "        with:\n",
    "          python-version: 3.11.9\n",
    "\n",
    "      - name: Install Dependencies\n",
    "        run: |\n",
    "          pip install -r requirements.txt\n",
    "\n",
    "      - name: Train and test model\n",
    "        run: |\n",
    "          python ml-example2/preprocess_data.py\n",
    "          python ml-example2/train.py\n",
    "\n",
    "      - name: Setup DVC\n",
    "        uses: iterative/setup-dvc@v1\n",
    "\n",
    "      - name: Run DVC pipeline\n",
    "        run: dvc repro\n",
    "        \n",
    "      - name: Setup CML GitHub Actions\n",
    "        uses: iterative/setup-cml@v3\n",
    "\n",
    "      - name: Write CML report\n",
    "        env:\n",
    "          REPO_TOKEN: ${{secrets.GITHUB_TOKEN}}\n",
    "        run: |\n",
    "          echo \"# ML Example 3\" > report3.md\n",
    "          dvc metrics show --md >> report3.md\n",
    "          echo \"### Metrics comparison with master branch\"\n",
    "          dvc metrics diff --all --md >> report3.md\n",
    "          echo \"![Confusion Matrix Plot](ml-example3/evaluation-result/confusion_matrix.png)\" >> report3.md\n",
    "          cml comment create report3.md\n",
    "```"
   ]
  },
  {
   "cell_type": "markdown",
   "id": "9ec248da-7b3e-43a7-9650-0b333c92b9fd",
   "metadata": {},
   "source": [
    "### Plotting Confusion Matrix"
   ]
  },
  {
   "cell_type": "code",
   "execution_count": 16,
   "id": "16dcb66a-e065-46f8-8be9-321eb66d9e42",
   "metadata": {},
   "outputs": [
    {
     "name": "stdout",
     "output_type": "stream",
     "text": [
      "file:///C:/Users/Jacqueline/Documents/projects/CAMP-MLEngTrack/14-CICD%20for%20Machine%20Learning/dvc_plots/index.html\n"
     ]
    }
   ],
   "source": [
    "# Plotting what was configured\n",
    "!dvc plots show"
   ]
  },
  {
   "cell_type": "code",
   "execution_count": 17,
   "id": "6a8d26dd-618a-4e9d-98ba-7c1302f07716",
   "metadata": {},
   "outputs": [
    {
     "data": {
      "text/html": [
       "\n",
       "        <iframe\n",
       "            width=\"800\"\n",
       "            height=\"450\"\n",
       "            src=\"dvc_plots/index.html\"\n",
       "            frameborder=\"0\"\n",
       "            allowfullscreen\n",
       "            \n",
       "        ></iframe>\n",
       "        "
      ],
      "text/plain": [
       "<IPython.lib.display.IFrame at 0x236d8fcc990>"
      ]
     },
     "execution_count": 17,
     "metadata": {},
     "output_type": "execute_result"
    }
   ],
   "source": [
    "from IPython.display import IFrame\n",
    "IFrame(\"dvc_plots/index.html\", width=800, height=450)"
   ]
  },
  {
   "cell_type": "code",
   "execution_count": 18,
   "id": "ccbf9ce6-cd45-46c0-9977-faf8ddcac913",
   "metadata": {},
   "outputs": [
    {
     "name": "stdout",
     "output_type": "stream",
     "text": [
      "file:///C:/Users/Jacqueline/Documents/projects/CAMP-MLEngTrack/14-CICD%20for%20Machine%20Learning/dvc_plots/index.html\n"
     ]
    }
   ],
   "source": [
    "# Plotting other graphs\n",
    "# scatter - scatter plot\n",
    "# linear - interactive linear plot\n",
    "# simple - non-interactive customizable linear plot\n",
    "# smooth - linear plot with smoothing\n",
    "# confusion - confusion matrix\n",
    "# confusion_normalized - confusion matrix with values normalized to <0, 1> range\n",
    "# bar_horizontal - horizontal bar plot\n",
    "# bar_horizontal_sorted - horizontal bar plot sorted by bar size\n",
    "!dvc plots show ml-example3/evaluation-result/predictions.csv \\\n",
    "                -t confusion \\\n",
    "                -x predicted_label \\\n",
    "                -y true_label \\\n",
    "                --x-label \"Predicted Label\" \\\n",
    "                --y-label \"True label\" \\\n",
    "                --title \"Confusion matrix\""
   ]
  },
  {
   "cell_type": "code",
   "execution_count": 19,
   "id": "b16f15da-171d-4edb-8de1-07526fa2e098",
   "metadata": {},
   "outputs": [
    {
     "data": {
      "text/html": [
       "\n",
       "        <iframe\n",
       "            width=\"800\"\n",
       "            height=\"450\"\n",
       "            src=\"dvc_plots/index.html\"\n",
       "            frameborder=\"0\"\n",
       "            allowfullscreen\n",
       "            \n",
       "        ></iframe>\n",
       "        "
      ],
      "text/plain": [
       "<IPython.lib.display.IFrame at 0x236d8ffa190>"
      ]
     },
     "execution_count": 19,
     "metadata": {},
     "output_type": "execute_result"
    }
   ],
   "source": [
    "from IPython.display import IFrame\n",
    "IFrame(\"dvc_plots/index.html\", width=800, height=450)"
   ]
  },
  {
   "cell_type": "markdown",
   "id": "33aceb91-6500-487e-af1f-91d510b170b7",
   "metadata": {},
   "source": [
    "### Comparing Confusion Matrix"
   ]
  },
  {
   "cell_type": "code",
   "execution_count": 20,
   "id": "ec7ab66e-b6f5-4fe3-bfcc-6d598cebc4b0",
   "metadata": {},
   "outputs": [
    {
     "name": "stdout",
     "output_type": "stream",
     "text": [
      "file:///C:/Users/Jacqueline/Documents/projects/CAMP-MLEngTrack/14-CICD%20for%20Machine%20Learning/dvc_plots/index.html\n"
     ]
    }
   ],
   "source": [
    "!dvc plots diff master"
   ]
  },
  {
   "cell_type": "code",
   "execution_count": 21,
   "id": "b92c0a91-2769-47d1-8871-549b9a49e2c6",
   "metadata": {},
   "outputs": [
    {
     "data": {
      "text/html": [
       "\n",
       "        <iframe\n",
       "            width=\"800\"\n",
       "            height=\"450\"\n",
       "            src=\"dvc_plots/index.html\"\n",
       "            frameborder=\"0\"\n",
       "            allowfullscreen\n",
       "            \n",
       "        ></iframe>\n",
       "        "
      ],
      "text/plain": [
       "<IPython.lib.display.IFrame at 0x236d901b290>"
      ]
     },
     "execution_count": 21,
     "metadata": {},
     "output_type": "execute_result"
    }
   ],
   "source": [
    "from IPython.display import IFrame\n",
    "IFrame(\"dvc_plots/index.html\", width=800, height=450)"
   ]
  },
  {
   "cell_type": "markdown",
   "id": "5c4c24c7-b91b-40b1-a9f9-9ee649e3a082",
   "metadata": {},
   "source": [
    "### Ex.1 - Adding metrics and plots to dvc.yaml\n",
    "In this exercise, your task is to complete the contents of dvc.yaml that defines a model training workflow.\n",
    "\n",
    "Here preprocess_dataset.py and train.py are the files that perform data preprocessing and model training by taking weather.csv as input in the raw_dataset folder. As output, the model training code generates a predictions.csv file that contains the predictions and the ground truth, and metrics.json file containing structured metrics data. The former would be used to generate a normalized confusion matrix plot for comparing it with previous commits.\n",
    "\n",
    "**Instruction**\n",
    "1. Set the metrics target to the output metrics file.\n",
    "2. Set the plot target to the output file containing predictions data.\n",
    "3. Set the plot template to confusion_normalized to plot the normalized confusion matrix.\n",
    "4. Set the correct value for cache key to track plots in Git repository instead of DVC remote."
   ]
  },
  {
   "cell_type": "code",
   "execution_count": 22,
   "id": "47473e67-c609-422a-aa67-e0e02760cd29",
   "metadata": {},
   "outputs": [
    {
     "name": "stdout",
     "output_type": "stream",
     "text": [
      "\n",
      "stages:\n",
      "  preprocess:\n",
      "    cmd: python ml-example3/preprocess_data.py\n",
      "    deps:\n",
      "    - ml-example3/raw-data/weather.csv\n",
      "    - ml-example3/preprocess_data.py\n",
      "    - ml-example3/utils_and_constants.py\n",
      "    outs:\n",
      "    - ml-example3/processed-data/weather.csv\n",
      "  train:\n",
      "    cmd: python ml-example3/train.py\n",
      "    deps:\n",
      "    - ml-example3/metrics_and_plots.py\n",
      "    - ml-example3/model.py\n",
      "    - ml-example3/processed-data/weather.csv\n",
      "    - ml-example3/train.py\n",
      "    - ml-example3/utils_and_constants.py\n",
      "    outs:\n",
      "    - ml-example3/evaluation-result/confusion_matrix.png\n",
      "    metrics:\n",
      "      - ml-example3/evaluation-result/metrics.json:\n",
      "          cache: false\n",
      "    plots:\n",
      "      - ml-example3/evaluation-result/predictions.csv:\n",
      "          template: confusion_normalized\n",
      "          x: predicted_label\n",
      "          y: true_label\n",
      "          x_label: 'Predicted label'\n",
      "          y_label: 'True label'\n",
      "          title: Confusion matrix\n",
      "          cache: false\n"
     ]
    }
   ],
   "source": [
    "!more dvc.yaml"
   ]
  },
  {
   "cell_type": "markdown",
   "id": "0a702576-5b68-4aba-a5c5-f2ea9eefd980",
   "metadata": {},
   "source": [
    "### Ex.2 - Comparing metrics across Git branches\n",
    "\n",
    "In this exercise, you will use DVC for querying and comparing metrics across different branches. This functionality of DVC is helpful in making decisions about the quality of a machine learning model.\n",
    "\n",
    "You will start in the main branch, where a DVC pipeline has already been executed and results committed in Git. Your task would entail querying metrics in the main branch. Then, you'll switch to a new training branch, change a hyperparameter, and execute the pipeline again, followed by comparing metrics with the main branch.\n",
    "\n",
    "**Instruction:**\n",
    "\n",
    "1. Query the metrics in the master branch by `running dvc metrics` show command in the terminal.\n",
    "2. Change `RFC_FOREST_DEPTH` to `4`, and execute the DVC pipeline.\n",
    "4. Compare the changed metrics with the main branch using `dvc metrics diff main --md | tee metrics_diff.md` command."
   ]
  },
  {
   "cell_type": "code",
   "execution_count": 23,
   "id": "9a82fce9-bca8-47db-95bd-ca4438ff7d6e",
   "metadata": {},
   "outputs": [
    {
     "name": "stdout",
     "output_type": "stream",
     "text": [
      "Everything is up to date.\n"
     ]
    },
    {
     "name": "stderr",
     "output_type": "stream",
     "text": [
      "warning: in the working copy of 'Track4-MLTrainning.ipynb', LF will be replaced by CRLF the next time Git touches it\n"
     ]
    },
    {
     "name": "stdout",
     "output_type": "stream",
     "text": [
      "[myfeature e7c8dfa] Metrics changes\n",
      " 1 file changed, 128 insertions(+), 151 deletions(-)\n"
     ]
    },
    {
     "name": "stderr",
     "output_type": "stream",
     "text": [
      "To https://github.com/jacesca/CICD-Workflow.git\n",
      "   9c6e143..e7c8dfa  myfeature -> myfeature\n"
     ]
    }
   ],
   "source": [
    "# Comitting any missing change\n",
    "!dvc push\n",
    "!git add .\n",
    "!git commit -m \"Metrics changes\"\n",
    "!git push origin myfeature"
   ]
  },
  {
   "cell_type": "code",
   "execution_count": 24,
   "id": "56400ba9-961d-4abc-9514-ecc96430ca6c",
   "metadata": {},
   "outputs": [
    {
     "name": "stdout",
     "output_type": "stream",
     "text": [
      "Path                                        accuracy    f1_score    precision    recall\n",
      "ml-example3\\evaluation-result\\metrics.json  0.947       0.8656      0.988        0.7702\n"
     ]
    }
   ],
   "source": [
    "# 1. Query the metrics in the branch\n",
    "!dvc metrics show"
   ]
  },
  {
   "cell_type": "code",
   "execution_count": 26,
   "id": "53f5c6ae-a06e-4541-9f33-4a09764eb1f7",
   "metadata": {},
   "outputs": [],
   "source": [
    "# 2. Change `RFC_FOREST_DEPTH` to `4`\n",
    "with open(\"ml-example3/.env\", \"w\") as f:\n",
    "    f.write('RFC_FOREST_DEPTH=4\\n')"
   ]
  },
  {
   "cell_type": "code",
   "execution_count": 27,
   "id": "2d58ed11-a9b8-4b88-aff7-906867e10cda",
   "metadata": {},
   "outputs": [
    {
     "name": "stderr",
     "output_type": "stream",
     "text": [
      "'.\\dvc.yaml' validation failed: expected a dictionary.\n"
     ]
    }
   ],
   "source": [
    "# and execute the DVC pipeline\n",
    "!dvc repro"
   ]
  },
  {
   "cell_type": "code",
   "execution_count": null,
   "id": "bfb99033-d344-4af8-82f7-d4078e03f653",
   "metadata": {},
   "outputs": [],
   "source": []
  }
 ],
 "metadata": {
  "kernelspec": {
   "display_name": "Python 3 (ipykernel)",
   "language": "python",
   "name": "python3"
  },
  "language_info": {
   "codemirror_mode": {
    "name": "ipython",
    "version": 3
   },
   "file_extension": ".py",
   "mimetype": "text/x-python",
   "name": "python",
   "nbconvert_exporter": "python",
   "pygments_lexer": "ipython3",
   "version": "3.11.9"
  }
 },
 "nbformat": 4,
 "nbformat_minor": 5
}
