{
 "cells": [
  {
   "cell_type": "markdown",
   "id": "fe4cdfd8-66e0-4a3a-946e-9fca637e0c8b",
   "metadata": {},
   "source": [
    "# 4. Comparing training runs and Hyperparameter (HP) tuning\n",
    "\n",
    "In this chapter, you will direct your attention towards the analysis of model performance and the fine-tuning of hyperparameters. You will acquire practical expertise in comparing metrics and visualizations across different branches to assess changes in model performance. You will conduct hyperparameter tuning using scikit-learn's GridSearchCV. Furthermore, you will delve into the automation of pull requests using the optimal model configuration.\n",
    "\n",
    "## 4.1 Comparing metrics and plots in DVC\n",
    "\n",
    "### Ex.1 - Adding metrics and plots to dvc.yaml\n",
    "In this exercise, your task is to complete the contents of dvc.yaml that defines a model training workflow.\n",
    "\n",
    "Here preprocess_dataset.py and train.py are the files that perform data preprocessing and model training by taking weather.csv as input in the raw_dataset folder. As output, the model training code generates a predictions.csv file that contains the predictions and the ground truth, and metrics.json file containing structured metrics data. The former would be used to generate a normalized confusion matrix plot for comparing it with previous commits.\n",
    "\n",
    "**Instruction**\n",
    "\n",
    "1. Set the metrics target to the output metrics file.\n",
    "2. Set the plot target to the output file containing predictions data.\n",
    "3. Set the plot template to confusion_normalized to plot the normalized confusion matrix.\n",
    "4. Set the correct value for cache key to track plots in Git repository instead of DVC remote."
   ]
  },
  {
   "cell_type": "markdown",
   "id": "dc93e548-c038-4eb6-b459-fbd5631d214f",
   "metadata": {},
   "source": [
    "#### Running the process manually"
   ]
  },
  {
   "cell_type": "code",
   "execution_count": 1,
   "id": "5687ee52-c71b-4fe3-9ee9-a3881f8c2887",
   "metadata": {},
   "outputs": [
    {
     "name": "stdout",
     "output_type": "stream",
     "text": [
      "====================Test Set Metrics==================\n",
      "{\n",
      "  \"accuracy\": 0.947,\n",
      "  \"precision\": 0.988,\n",
      "  \"recall\": 0.7702,\n",
      "  \"f1_score\": 0.8656\n",
      "}\n",
      "======================================================\n"
     ]
    }
   ],
   "source": [
    "!python .\\ml-example3\\preprocess_data.py\n",
    "!python .\\ml-example3\\train.py"
   ]
  },
  {
   "cell_type": "markdown",
   "id": "be38a441-dcef-426a-928e-754ffd948e05",
   "metadata": {},
   "source": [
    "#### Preparing the DVC.yaml file"
   ]
  },
  {
   "cell_type": "code",
   "execution_count": null,
   "id": "72906da7-5826-4f5f-88f5-94b177f3fea6",
   "metadata": {},
   "outputs": [],
   "source": []
  }
 ],
 "metadata": {
  "kernelspec": {
   "display_name": "Python 3 (ipykernel)",
   "language": "python",
   "name": "python3"
  },
  "language_info": {
   "codemirror_mode": {
    "name": "ipython",
    "version": 3
   },
   "file_extension": ".py",
   "mimetype": "text/x-python",
   "name": "python",
   "nbconvert_exporter": "python",
   "pygments_lexer": "ipython3",
   "version": "3.11.9"
  }
 },
 "nbformat": 4,
 "nbformat_minor": 5
}
