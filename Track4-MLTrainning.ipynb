{
 "cells": [
  {
   "cell_type": "markdown",
   "id": "fe4cdfd8-66e0-4a3a-946e-9fca637e0c8b",
   "metadata": {},
   "source": [
    "# 4. Comparing training runs and Hyperparameter (HP) tuning\n",
    "\n",
    "In this chapter, you will direct your attention towards the analysis of model performance and the fine-tuning of hyperparameters. You will acquire practical expertise in comparing metrics and visualizations across different branches to assess changes in model performance. You will conduct hyperparameter tuning using scikit-learn's GridSearchCV. Furthermore, you will delve into the automation of pull requests using the optimal model configuration.\n",
    "\n",
    "## Documentation\n",
    "\n",
    "- [Convert a HTML page to Markdown in GitHub Actions](https://github.com/marketplace/actions/convert-html-to-markdown)\n",
    "- [GitHub Actions: how to target all branches EXCEPT master?](https://stackoverflow.com/questions/57699839/github-actions-how-to-target-all-branches-except-master)\n",
    "- [Github Actions - trigger another action after one action is completed](https://stackoverflow.com/questions/62750603/github-actions-trigger-another-action-after-one-action-is-completed)\n",
    "- [How to Stop Tracking Data](https://dvc.org/doc/user-guide/how-to/stop-tracking-data)\n",
    "\n",
    "## 4.1 Comparing metrics and plots in DVC"
   ]
  },
  {
   "cell_type": "markdown",
   "id": "f0053ba0-0142-457f-a6ad-8ae2e8e956a3",
   "metadata": {},
   "source": [
    "### Preparing the environment"
   ]
  },
  {
   "cell_type": "code",
   "execution_count": 1,
   "id": "08fda363-c74a-42fd-8479-ec824912f011",
   "metadata": {},
   "outputs": [
    {
     "name": "stderr",
     "output_type": "stream",
     "text": [
      "Already on 'myfeature'\n"
     ]
    },
    {
     "name": "stdout",
     "output_type": "stream",
     "text": [
      "Already up to date.\n"
     ]
    },
    {
     "name": "stderr",
     "output_type": "stream",
     "text": [
      "From https://github.com/jacesca/CICD-Workflow\n",
      " * branch            myfeature  -> FETCH_HEAD\n"
     ]
    }
   ],
   "source": [
    "# Moving to myfeature\n",
    "!git checkout myfeature\n",
    "!git pull origin myfeature"
   ]
  },
  {
   "cell_type": "code",
   "execution_count": 2,
   "id": "8bf29a90-9d4e-4e93-9c85-61333ed3c7b9",
   "metadata": {},
   "outputs": [
    {
     "name": "stderr",
     "output_type": "stream",
     "text": [
      "The following paths are ignored by one of your .gitignore files:\n",
      "ml-example3/processed-data/weather.csv\n",
      "hint: Use -f if you really want to add them.\n",
      "hint: Disable this message with \"git config advice.addIgnoredFile false\"\n",
      "The following paths are ignored by one of your .gitignore files:\n",
      "ml-example3/evaluation-result/confusion_matrix.png\n",
      "hint: Use -f if you really want to add them.\n",
      "hint: Disable this message with \"git config advice.addIgnoredFile false\"\n"
     ]
    },
    {
     "name": "stdout",
     "output_type": "stream",
     "text": [
      "On branch myfeature\n",
      "nothing to commit, working tree clean\n"
     ]
    },
    {
     "name": "stderr",
     "output_type": "stream",
     "text": [
      "fatal: pathspec 'ml-example3\\processed-data\\weather.csv' did not match any files\n",
      "fatal: pathspec 'ml-example3\\evaluation-result\\confusion_matrix.png' did not match any files\n"
     ]
    },
    {
     "name": "stdout",
     "output_type": "stream",
     "text": [
      "On branch myfeature\n",
      "nothing to commit, working tree clean\n"
     ]
    }
   ],
   "source": [
    "# Removing files from git versioning\n",
    "# To ensure this files can be tracked in dvc.\n",
    "!git add ml-example3\\processed-data\\weather.csv\n",
    "!git add ml-example3\\evaluation-result\\confusion_matrix.png\n",
    "!git commit -m \"tracking ml-ex3 .. weather.cs and confusion_matrix.png\"\n",
    "!git rm -r --cached ml-example3\\processed-data\\weather.csv\n",
    "!git rm -r --cached ml-example3\\evaluation-result\\confusion_matrix.png\n",
    "!git commit -m \"stop tracking ml-ex3 .. weather.cs and confusion_matrix.png\""
   ]
  },
  {
   "cell_type": "code",
   "execution_count": 3,
   "id": "deba6ab4-0f48-44ba-aa4b-6307da119916",
   "metadata": {},
   "outputs": [],
   "source": [
    "# Ensuring RFC_FOREST_DEPTH=2\n",
    "with open(\"ml-example3/.env\", \"w\") as f:\n",
    "    f.write('RFC_FOREST_DEPTH=2\\n')"
   ]
  },
  {
   "cell_type": "code",
   "execution_count": 4,
   "id": "72906da7-5826-4f5f-88f5-94b177f3fea6",
   "metadata": {},
   "outputs": [],
   "source": [
    "# Removing any previous `dvc.yaml` file\n",
    "# Removing any existing previous yml file\n",
    "!del dvc.yaml"
   ]
  },
  {
   "cell_type": "markdown",
   "id": "dc93e548-c038-4eb6-b459-fbd5631d214f",
   "metadata": {},
   "source": [
    "### Running the process manually"
   ]
  },
  {
   "cell_type": "code",
   "execution_count": 5,
   "id": "5687ee52-c71b-4fe3-9ee9-a3881f8c2887",
   "metadata": {
    "scrolled": true
   },
   "outputs": [
    {
     "name": "stdout",
     "output_type": "stream",
     "text": [
      "====================Test Set Metrics==================\n",
      "{\n",
      "  \"accuracy\": 0.947,\n",
      "  \"precision\": 0.988,\n",
      "  \"recall\": 0.7702,\n",
      "  \"f1_score\": 0.8656\n",
      "}\n",
      "======================================================\n"
     ]
    }
   ],
   "source": [
    "!python .\\ml-example3\\preprocess_data.py\n",
    "!python .\\ml-example3\\train.py"
   ]
  },
  {
   "cell_type": "markdown",
   "id": "103f647c-10df-4508-bd46-93dd49088d9f",
   "metadata": {},
   "source": [
    "### Working with DVC pipeline for `ml-example3`"
   ]
  },
  {
   "cell_type": "code",
   "execution_count": 6,
   "id": "e8186b49-3716-47d6-8322-6174ac5221e2",
   "metadata": {},
   "outputs": [],
   "source": [
    "# Prepare the yaml file\n",
    "yml_str = f\"\"\"\n",
    "stages:\n",
    "  preprocess:\n",
    "    cmd: python ml-example3/preprocess_data.py\n",
    "    deps:\n",
    "    - ml-example3/raw-data/weather.csv\n",
    "    - ml-example3/preprocess_data.py\n",
    "    - ml-example3/.env\n",
    "    - ml-example3/utils_and_constants.py\n",
    "    outs:\n",
    "    - ml-example3/processed-data/weather.csv\n",
    "  train:\n",
    "    cmd: python ml-example3/train.py\n",
    "    deps:\n",
    "    - ml-example3/metrics_and_plots.py\n",
    "    - ml-example3/model.py\n",
    "    - ml-example3/processed-data/weather.csv\n",
    "    - ml-example3/train.py\n",
    "    - ml-example3/.env\n",
    "    - ml-example3/utils_and_constants.py\n",
    "    outs:\n",
    "    - ml-example3/evaluation-result/confusion_matrix.png\n",
    "    metrics:\n",
    "      - ml-example3/evaluation-result/metrics.json:\n",
    "          cache: false\n",
    "    plots:\n",
    "      - ml-example3/evaluation-result/predictions.csv:\n",
    "          template: confusion_normalized\n",
    "          x: predicted_label\n",
    "          y: true_label\n",
    "          x_label: 'Predicted label'\n",
    "          y_label: 'True label'\n",
    "          title: Confusion matrix\n",
    "          cache: false\n",
    "\"\"\"\n",
    "with open(\"dvc.yaml\", \"w\") as f:\n",
    "    f.write(yml_str)"
   ]
  },
  {
   "cell_type": "code",
   "execution_count": 7,
   "id": "0e9b6bec-2373-4c10-8c11-0099c618eecf",
   "metadata": {},
   "outputs": [
    {
     "name": "stdout",
     "output_type": "stream",
     "text": [
      "\n",
      "stages:\n",
      "  preprocess:\n",
      "    cmd: python ml-example3/preprocess_data.py\n",
      "    deps:\n",
      "    - ml-example3/raw-data/weather.csv\n",
      "    - ml-example3/preprocess_data.py\n",
      "    - ml-example3/.env\n",
      "    - ml-example3/utils_and_constants.py\n",
      "    outs:\n",
      "    - ml-example3/processed-data/weather.csv\n",
      "  train:\n",
      "    cmd: python ml-example3/train.py\n",
      "    deps:\n",
      "    - ml-example3/metrics_and_plots.py\n",
      "    - ml-example3/model.py\n",
      "    - ml-example3/processed-data/weather.csv\n",
      "    - ml-example3/train.py\n",
      "    - ml-example3/.env\n",
      "    - ml-example3/utils_and_constants.py\n",
      "    outs:\n",
      "    - ml-example3/evaluation-result/confusion_matrix.png\n",
      "    metrics:\n",
      "      - ml-example3/evaluation-result/metrics.json:\n",
      "          cache: false\n",
      "    plots:\n",
      "      - ml-example3/evaluation-result/predictions.csv:\n",
      "          template: confusion_normalized\n",
      "          x: predicted_label\n",
      "          y: true_label\n",
      "          x_label: 'Predicted label'\n",
      "          y_label: 'True label'\n",
      "          title: Confusion matrix\n",
      "          cache: false\n"
     ]
    }
   ],
   "source": [
    "# Reviewing the dvc.yaml file\n",
    "!more dvc.yaml"
   ]
  },
  {
   "cell_type": "code",
   "execution_count": 8,
   "id": "2445fc38-fdb1-4c5c-9f1c-e89dce7407e2",
   "metadata": {},
   "outputs": [
    {
     "name": "stdout",
     "output_type": "stream",
     "text": [
      "+------------+ \n",
      "| preprocess | \n",
      "+------------+ \n",
      "       *       \n",
      "       *       \n",
      "       *       \n",
      "  +-------+    \n",
      "  | train |    \n",
      "  +-------+    \n"
     ]
    }
   ],
   "source": [
    "# Reviewing the process\n",
    "!dvc dag"
   ]
  },
  {
   "cell_type": "code",
   "execution_count": 9,
   "id": "63be843b-fbd3-4f4c-ace8-606f7bc4344a",
   "metadata": {},
   "outputs": [
    {
     "name": "stdout",
     "output_type": "stream",
     "text": [
      "Stage 'preprocess' is cached - skipping run, checking out outputs\n",
      "Running stage 'preprocess':\n",
      "> python ml-example3/preprocess_data.py\n",
      "\n",
      "Stage 'train' is cached - skipping run, checking out outputs\n",
      "Running stage 'train':\n",
      "> python ml-example3/train.py\n",
      "Use `dvc push` to send your updates to remote storage.\n"
     ]
    }
   ],
   "source": [
    "# Reviewing the comands that the pipeline will execute:\n",
    "!dvc repro --dry"
   ]
  },
  {
   "cell_type": "code",
   "execution_count": 10,
   "id": "96ee6d89-628d-463e-8bc3-e5379c6c7272",
   "metadata": {},
   "outputs": [
    {
     "name": "stdout",
     "output_type": "stream",
     "text": [
      "Stage 'preprocess' is cached - skipping run, checking out outputs\n",
      "Updating lock file 'dvc.lock'\n",
      "\n",
      "Stage 'train' is cached - skipping run, checking out outputs\n",
      "Updating lock file 'dvc.lock'\n",
      "\n",
      "To track the changes with git, run:\n",
      "\n",
      "\tgit add dvc.lock\n",
      "\n",
      "To enable auto staging, run:\n",
      "\n",
      "\tdvc config core.autostage true\n",
      "Use `dvc push` to send your updates to remote storage.\n"
     ]
    }
   ],
   "source": [
    "# Running the dvc pipeline\n",
    "!dvc repro"
   ]
  },
  {
   "cell_type": "markdown",
   "id": "10dddf3c-ec7d-48bf-a758-135d3a876b7e",
   "metadata": {},
   "source": [
    "### Querying and comparing DVC metrics"
   ]
  },
  {
   "cell_type": "code",
   "execution_count": 11,
   "id": "11eb6513-fa0a-42bf-bc22-98ec01e81a13",
   "metadata": {},
   "outputs": [
    {
     "name": "stdout",
     "output_type": "stream",
     "text": [
      "Path                                        accuracy    f1_score    precision    recall\n",
      "ml-example3\\evaluation-result\\metrics.json  0.947       0.8656      0.988        0.7702\n"
     ]
    }
   ],
   "source": [
    "!dvc metrics show"
   ]
  },
  {
   "cell_type": "code",
   "execution_count": 12,
   "id": "bf4a7831-8311-446f-8c1e-bd9de2a982dc",
   "metadata": {},
   "outputs": [
    {
     "name": "stdout",
     "output_type": "stream",
     "text": [
      "| Path                                       | accuracy   | f1_score   | precision   | recall   |\n",
      "|--------------------------------------------|------------|------------|-------------|----------|\n",
      "| ml-example3\\evaluation-result\\metrics.json | 0.947      | 0.8656     | 0.988       | 0.7702   |\n",
      "\n"
     ]
    }
   ],
   "source": [
    "!dvc metrics show --md"
   ]
  },
  {
   "cell_type": "code",
   "execution_count": 13,
   "id": "49ec587e-3186-4ab0-9f85-201dda5bac7f",
   "metadata": {},
   "outputs": [
    {
     "name": "stdout",
     "output_type": "stream",
     "text": [
      "Path                                        Metric     HEAD    workspace    Change\n",
      "ml-example3\\evaluation-result\\metrics.json  accuracy   0.9912  0.947        -0.0442\n",
      "ml-example3\\evaluation-result\\metrics.json  f1_score   0.98    0.8656       -0.1144\n",
      "ml-example3\\evaluation-result\\metrics.json  precision  0.9861  0.988        0.0019\n",
      "ml-example3\\evaluation-result\\metrics.json  recall     0.974   0.7702       -0.2038\n"
     ]
    }
   ],
   "source": [
    "!dvc metrics diff --all"
   ]
  },
  {
   "cell_type": "code",
   "execution_count": 14,
   "id": "1029f705-a163-4c61-afa3-8db50c9eef24",
   "metadata": {},
   "outputs": [
    {
     "name": "stdout",
     "output_type": "stream",
     "text": [
      "Path                                        Metric     HEAD    workspace    Change\n",
      "ml-example3\\evaluation-result\\metrics.json  accuracy   0.9912  0.947        -0.0442\n",
      "ml-example3\\evaluation-result\\metrics.json  f1_score   0.98    0.8656       -0.1144\n",
      "ml-example3\\evaluation-result\\metrics.json  precision  0.9861  0.988        0.0019\n",
      "ml-example3\\evaluation-result\\metrics.json  recall     0.974   0.7702       -0.2038\n"
     ]
    }
   ],
   "source": [
    "# Compare metrics with main branch\n",
    "!git fetch --prune\n",
    "!dvc metrics diff HEAD --all"
   ]
  },
  {
   "cell_type": "markdown",
   "id": "cde38db9-40a8-4f1f-a778-75d7546e596d",
   "metadata": {},
   "source": [
    "### Commiting changes in myfeature branch"
   ]
  },
  {
   "cell_type": "code",
   "execution_count": 15,
   "id": "6ce9b333-ea23-464b-8b79-bc3933acb8c0",
   "metadata": {},
   "outputs": [
    {
     "name": "stdout",
     "output_type": "stream",
     "text": [
      "Everything is up to date.\n",
      "[myfeature 4d62ff9] DVC Pipeline for ml-example3\n",
      " 5 files changed, 545 insertions(+), 835 deletions(-)\n"
     ]
    },
    {
     "name": "stderr",
     "output_type": "stream",
     "text": [
      "To https://github.com/jacesca/CICD-Workflow.git\n",
      "   3029c5a..4d62ff9  myfeature -> myfeature\n"
     ]
    }
   ],
   "source": [
    "!dvc push\n",
    "!git add .\n",
    "!git commit -m \"DVC Pipeline for ml-example3\"\n",
    "!git push origin myfeature"
   ]
  },
  {
   "cell_type": "markdown",
   "id": "27c56cb3-db87-4d54-abca-48dd0696aaf9",
   "metadata": {},
   "source": [
    "### Setting up DVC Github Action\n",
    "\n",
    "```\n",
    "name: comments-ml-example3\n",
    "\n",
    "on:\n",
    "  pull_request:\n",
    "    branches: [\"master\", \"myfeature\"]\n",
    "\n",
    "permissions: write-all\n",
    "\n",
    "jobs:\n",
    "  train_and_test_model_ml3:\n",
    "    runs-on: ubuntu-latest\n",
    "    steps:\n",
    "      - name: Checkout\n",
    "        uses: actions/checkout@v4\n",
    "\n",
    "      - name: Setup Python\n",
    "        uses: actions/setup-python@v5\n",
    "        with:\n",
    "          python-version: 3.11.9\n",
    "\n",
    "      - name: Install Dependencies\n",
    "        run: |\n",
    "          pip install -r requirements.txt\n",
    "\n",
    "      - name: Train and test model\n",
    "        run: |\n",
    "          python ml-example3/preprocess_data.py\n",
    "          python ml-example3/train.py\n",
    "\n",
    "      - name: Create DVC pipeline\n",
    "        run: |\n",
    "          python ml-example3/dvc_pipeline_creation.py\n",
    "\n",
    "      - name: Setup DVC\n",
    "        uses: iterative/setup-dvc@v1\n",
    "\n",
    "      - name: Run DVC pipeline\n",
    "        run: dvc repro\n",
    "        \n",
    "      - name: Setup CML GitHub Actions\n",
    "        uses: iterative/setup-cml@v3\n",
    "\n",
    "      - name: Write CML report\n",
    "        env:\n",
    "          REPO_TOKEN: ${{secrets.GITHUB_TOKEN}}\n",
    "        run: |\n",
    "          echo \"# ML Example 3\" > report3.md\n",
    "          dvc metrics show --md >> report3.md\n",
    "          echo \"### Metrics comparison with master branch\" >> report3.md\n",
    "          dvc metrics diff --all --md >> report3.md\n",
    "          echo \"![Confusion Matrix Plot](ml-example3/evaluation-result/confusion_matrix.png)\" >> report3.md\n",
    "          cml comment create report3.md\n",
    "\n",
    "```"
   ]
  },
  {
   "cell_type": "markdown",
   "id": "9ec248da-7b3e-43a7-9650-0b333c92b9fd",
   "metadata": {},
   "source": [
    "### Plotting Confusion Matrix"
   ]
  },
  {
   "cell_type": "code",
   "execution_count": 16,
   "id": "16dcb66a-e065-46f8-8be9-321eb66d9e42",
   "metadata": {},
   "outputs": [
    {
     "name": "stdout",
     "output_type": "stream",
     "text": [
      "file:///C:/Users/Jacqueline/Documents/projects/CAMP-MLEngTrack/14-CICD%20for%20Machine%20Learning/dvc_plots/index.html\n"
     ]
    }
   ],
   "source": [
    "# Plotting what was configured\n",
    "!dvc plots show"
   ]
  },
  {
   "cell_type": "code",
   "execution_count": 17,
   "id": "6a8d26dd-618a-4e9d-98ba-7c1302f07716",
   "metadata": {},
   "outputs": [
    {
     "data": {
      "text/html": [
       "\n",
       "        <iframe\n",
       "            width=\"800\"\n",
       "            height=\"450\"\n",
       "            src=\"dvc_plots/index.html\"\n",
       "            frameborder=\"0\"\n",
       "            allowfullscreen\n",
       "            \n",
       "        ></iframe>\n",
       "        "
      ],
      "text/plain": [
       "<IPython.lib.display.IFrame at 0x24cfb3d4810>"
      ]
     },
     "execution_count": 17,
     "metadata": {},
     "output_type": "execute_result"
    }
   ],
   "source": [
    "from IPython.display import IFrame\n",
    "IFrame(\"dvc_plots/index.html\", width=800, height=450)"
   ]
  },
  {
   "cell_type": "code",
   "execution_count": 18,
   "id": "ccbf9ce6-cd45-46c0-9977-faf8ddcac913",
   "metadata": {},
   "outputs": [
    {
     "name": "stdout",
     "output_type": "stream",
     "text": [
      "file:///C:/Users/Jacqueline/Documents/projects/CAMP-MLEngTrack/14-CICD%20for%20Machine%20Learning/dvc_plots/index.html\n"
     ]
    }
   ],
   "source": [
    "# Plotting other graphs\n",
    "# scatter - scatter plot\n",
    "# linear - interactive linear plot\n",
    "# simple - non-interactive customizable linear plot\n",
    "# smooth - linear plot with smoothing\n",
    "# confusion - confusion matrix\n",
    "# confusion_normalized - confusion matrix with values normalized to <0, 1> range\n",
    "# bar_horizontal - horizontal bar plot\n",
    "# bar_horizontal_sorted - horizontal bar plot sorted by bar size\n",
    "!dvc plots show ml-example3/evaluation-result/predictions.csv \\\n",
    "                -t confusion \\\n",
    "                -x predicted_label \\\n",
    "                -y true_label \\\n",
    "                --x-label \"Predicted Label\" \\\n",
    "                --y-label \"True label\" \\\n",
    "                --title \"Confusion matrix\""
   ]
  },
  {
   "cell_type": "code",
   "execution_count": 19,
   "id": "b16f15da-171d-4edb-8de1-07526fa2e098",
   "metadata": {},
   "outputs": [
    {
     "data": {
      "text/html": [
       "\n",
       "        <iframe\n",
       "            width=\"800\"\n",
       "            height=\"450\"\n",
       "            src=\"dvc_plots/index.html\"\n",
       "            frameborder=\"0\"\n",
       "            allowfullscreen\n",
       "            \n",
       "        ></iframe>\n",
       "        "
      ],
      "text/plain": [
       "<IPython.lib.display.IFrame at 0x24cfb3dd7d0>"
      ]
     },
     "execution_count": 19,
     "metadata": {},
     "output_type": "execute_result"
    }
   ],
   "source": [
    "from IPython.display import IFrame\n",
    "IFrame(\"dvc_plots/index.html\", width=800, height=450)"
   ]
  },
  {
   "cell_type": "markdown",
   "id": "33aceb91-6500-487e-af1f-91d510b170b7",
   "metadata": {},
   "source": [
    "### Comparing Confusion Matrix"
   ]
  },
  {
   "cell_type": "code",
   "execution_count": 20,
   "id": "ec7ab66e-b6f5-4fe3-bfcc-6d598cebc4b0",
   "metadata": {},
   "outputs": [
    {
     "name": "stdout",
     "output_type": "stream",
     "text": [
      "file:///C:/Users/Jacqueline/Documents/projects/CAMP-MLEngTrack/14-CICD%20for%20Machine%20Learning/dvc_plots/index.html\n"
     ]
    }
   ],
   "source": [
    "!dvc plots diff master"
   ]
  },
  {
   "cell_type": "code",
   "execution_count": 21,
   "id": "b92c0a91-2769-47d1-8871-549b9a49e2c6",
   "metadata": {},
   "outputs": [
    {
     "data": {
      "text/html": [
       "\n",
       "        <iframe\n",
       "            width=\"800\"\n",
       "            height=\"450\"\n",
       "            src=\"dvc_plots/index.html\"\n",
       "            frameborder=\"0\"\n",
       "            allowfullscreen\n",
       "            \n",
       "        ></iframe>\n",
       "        "
      ],
      "text/plain": [
       "<IPython.lib.display.IFrame at 0x24cfb3ae4d0>"
      ]
     },
     "execution_count": 21,
     "metadata": {},
     "output_type": "execute_result"
    }
   ],
   "source": [
    "from IPython.display import IFrame\n",
    "IFrame(\"dvc_plots/index.html\", width=800, height=450)"
   ]
  },
  {
   "cell_type": "markdown",
   "id": "5c4c24c7-b91b-40b1-a9f9-9ee649e3a082",
   "metadata": {},
   "source": [
    "### Ex.1 - Adding metrics and plots to dvc.yaml\n",
    "In this exercise, your task is to complete the contents of dvc.yaml that defines a model training workflow.\n",
    "\n",
    "Here preprocess_dataset.py and train.py are the files that perform data preprocessing and model training by taking weather.csv as input in the raw_dataset folder. As output, the model training code generates a predictions.csv file that contains the predictions and the ground truth, and metrics.json file containing structured metrics data. The former would be used to generate a normalized confusion matrix plot for comparing it with previous commits.\n",
    "\n",
    "**Instruction**\n",
    "1. Set the metrics target to the output metrics file.\n",
    "2. Set the plot target to the output file containing predictions data.\n",
    "3. Set the plot template to confusion_normalized to plot the normalized confusion matrix.\n",
    "4. Set the correct value for cache key to track plots in Git repository instead of DVC remote."
   ]
  },
  {
   "cell_type": "code",
   "execution_count": 22,
   "id": "47473e67-c609-422a-aa67-e0e02760cd29",
   "metadata": {},
   "outputs": [
    {
     "name": "stdout",
     "output_type": "stream",
     "text": [
      "\n",
      "stages:\n",
      "  preprocess:\n",
      "    cmd: python ml-example3/preprocess_data.py\n",
      "    deps:\n",
      "    - ml-example3/raw-data/weather.csv\n",
      "    - ml-example3/preprocess_data.py\n",
      "    - ml-example3/.env\n",
      "    - ml-example3/utils_and_constants.py\n",
      "    outs:\n",
      "    - ml-example3/processed-data/weather.csv\n",
      "  train:\n",
      "    cmd: python ml-example3/train.py\n",
      "    deps:\n",
      "    - ml-example3/metrics_and_plots.py\n",
      "    - ml-example3/model.py\n",
      "    - ml-example3/processed-data/weather.csv\n",
      "    - ml-example3/train.py\n",
      "    - ml-example3/.env\n",
      "    - ml-example3/utils_and_constants.py\n",
      "    outs:\n",
      "    - ml-example3/evaluation-result/confusion_matrix.png\n",
      "    metrics:\n",
      "      - ml-example3/evaluation-result/metrics.json:\n",
      "          cache: false\n",
      "    plots:\n",
      "      - ml-example3/evaluation-result/predictions.csv:\n",
      "          template: confusion_normalized\n",
      "          x: predicted_label\n",
      "          y: true_label\n",
      "          x_label: 'Predicted label'\n",
      "          y_label: 'True label'\n",
      "          title: Confusion matrix\n",
      "          cache: false\n"
     ]
    }
   ],
   "source": [
    "!more dvc.yaml"
   ]
  },
  {
   "cell_type": "markdown",
   "id": "0a702576-5b68-4aba-a5c5-f2ea9eefd980",
   "metadata": {},
   "source": [
    "### Ex.2 - Comparing metrics across Git branches\n",
    "\n",
    "In this exercise, you will use DVC for querying and comparing metrics across different branches. This functionality of DVC is helpful in making decisions about the quality of a machine learning model.\n",
    "\n",
    "You will start in the main branch, where a DVC pipeline has already been executed and results committed in Git. Your task would entail querying metrics in the main branch. Then, you'll switch to a new training branch, change a hyperparameter, and execute the pipeline again, followed by comparing metrics with the main branch.\n",
    "\n",
    "**Instruction:**\n",
    "\n",
    "1. Query the metrics in the master branch by `running dvc metrics` show command in the terminal.\n",
    "2. Change `RFC_FOREST_DEPTH` to `4`, and execute the DVC pipeline.\n",
    "4. Compare the changed metrics with the master branch using `dvc metrics diff --md | tee metrics_diff.md` command."
   ]
  },
  {
   "cell_type": "code",
   "execution_count": 23,
   "id": "9a82fce9-bca8-47db-95bd-ca4438ff7d6e",
   "metadata": {},
   "outputs": [
    {
     "name": "stdout",
     "output_type": "stream",
     "text": [
      "Everything is up to date.\n",
      "On branch myfeature\n",
      "nothing to commit, working tree clean\n"
     ]
    },
    {
     "name": "stderr",
     "output_type": "stream",
     "text": [
      "Everything up-to-date\n"
     ]
    }
   ],
   "source": [
    "# Comitting any missing change\n",
    "!dvc push\n",
    "!git add .\n",
    "!git commit -m \"Metrics changes\"\n",
    "!git push origin myfeature"
   ]
  },
  {
   "cell_type": "code",
   "execution_count": 24,
   "id": "56400ba9-961d-4abc-9514-ecc96430ca6c",
   "metadata": {},
   "outputs": [
    {
     "name": "stdout",
     "output_type": "stream",
     "text": [
      "Path                                        accuracy    f1_score    precision    recall\n",
      "ml-example3\\evaluation-result\\metrics.json  0.947       0.8656      0.988        0.7702\n"
     ]
    }
   ],
   "source": [
    "# 1. Query the metrics in the branch\n",
    "!dvc metrics show"
   ]
  },
  {
   "cell_type": "code",
   "execution_count": 25,
   "id": "53f5c6ae-a06e-4541-9f33-4a09764eb1f7",
   "metadata": {},
   "outputs": [],
   "source": [
    "# 2. Change `RFC_FOREST_DEPTH` to `4`\n",
    "with open(\"ml-example3/.env\", \"w\") as f:\n",
    "    f.write('RFC_FOREST_DEPTH=4\\n')"
   ]
  },
  {
   "cell_type": "code",
   "execution_count": 26,
   "id": "2d58ed11-a9b8-4b88-aff7-906867e10cda",
   "metadata": {},
   "outputs": [
    {
     "name": "stdout",
     "output_type": "stream",
     "text": [
      "Running stage 'preprocess':\n",
      "> python ml-example3/preprocess_data.py\n",
      "Updating lock file 'dvc.lock'\n",
      "\n",
      "Running stage 'train':\n",
      "> python ml-example3/train.py\n",
      "====================Test Set Metrics==================\n",
      "{\n",
      "  \"accuracy\": 0.9912,\n",
      "  \"precision\": 0.9861,\n",
      "  \"recall\": 0.974,\n",
      "  \"f1_score\": 0.98\n",
      "}\n",
      "======================================================\n",
      "Updating lock file 'dvc.lock'\n",
      "\n",
      "To track the changes with git, run:\n",
      "\n",
      "\tgit add dvc.lock\n",
      "\n",
      "To enable auto staging, run:\n",
      "\n",
      "\tdvc config core.autostage true\n",
      "Use `dvc push` to send your updates to remote storage.\n"
     ]
    }
   ],
   "source": [
    "# and execute the DVC pipeline\n",
    "!dvc repro --force"
   ]
  },
  {
   "cell_type": "code",
   "execution_count": 27,
   "id": "bfb99033-d344-4af8-82f7-d4078e03f653",
   "metadata": {},
   "outputs": [
    {
     "name": "stdout",
     "output_type": "stream",
     "text": [
      "| Path                                       | Metric    | HEAD   | workspace   | Change   |\n",
      "|--------------------------------------------|-----------|--------|-------------|----------|\n",
      "| ml-example3\\evaluation-result\\metrics.json | accuracy  | 0.947  | 0.9912      | 0.0442   |\n",
      "| ml-example3\\evaluation-result\\metrics.json | f1_score  | 0.8656 | 0.98        | 0.1144   |\n",
      "| ml-example3\\evaluation-result\\metrics.json | precision | 0.988  | 0.9861      | -0.0019  |\n",
      "| ml-example3\\evaluation-result\\metrics.json | recall    | 0.7702 | 0.974       | 0.2038   |\n",
      "\n"
     ]
    }
   ],
   "source": [
    "# Compare the changed metrics with the master branch\n",
    "!dvc metrics diff --md --all"
   ]
  },
  {
   "cell_type": "code",
   "execution_count": 28,
   "id": "f1d7995a-32ae-4d52-9aa5-c3c267dd3af8",
   "metadata": {},
   "outputs": [
    {
     "name": "stdout",
     "output_type": "stream",
     "text": [
      "| Path                                       | Metric    | HEAD   | workspace   | Change   |\n",
      "|--------------------------------------------|-----------|--------|-------------|----------|\n",
      "| ml-example3\\evaluation-result\\metrics.json | accuracy  | 0.947  | 0.9912      | 0.0442   |\n",
      "| ml-example3\\evaluation-result\\metrics.json | f1_score  | 0.8656 | 0.98        | 0.1144   |\n",
      "| ml-example3\\evaluation-result\\metrics.json | precision | 0.988  | 0.9861      | -0.0019  |\n",
      "| ml-example3\\evaluation-result\\metrics.json | recall    | 0.7702 | 0.974       | 0.2038   |\n",
      "\n"
     ]
    }
   ],
   "source": [
    "!dvc metrics diff --md --all > metrics_diff.md & type metrics_diff.md"
   ]
  },
  {
   "cell_type": "code",
   "execution_count": 29,
   "id": "e601b47b-d321-4690-bcb2-33d66951db29",
   "metadata": {},
   "outputs": [
    {
     "name": "stdout",
     "output_type": "stream",
     "text": [
      "metrics_diff.md\n",
      "More.md\n",
      "Readme.md\n"
     ]
    }
   ],
   "source": [
    "!dir *.md /b"
   ]
  },
  {
   "cell_type": "markdown",
   "id": "1abc43bf-6e54-4886-876e-0a9db4be6726",
   "metadata": {},
   "source": [
    "### Ex.3 - Run DVC pipeline in GitHub Actions\n",
    "In this exercise, you will use CML GitHub Action to run a DVC pipeline and compare metrics between the training branch and main. The pipeline will trigger when you open a PR against the main branch.\n",
    "\n",
    "The output from running train.py is a metrics.json file containing model metrics that will provide the source data for comparing metrics across branches.\n",
    "\n",
    "Your task is to finish the scaffolded .github/workflows/dvc_cml.yaml to formulate a high-level model training flow. Scroll down to Line 24 to make changes.\n",
    "\n",
    "**Instruction**\n",
    "    \n",
    "1. Setup DVC GitHub Action iterative/setup-dvc@v1.\n",
    "2. Run DVC pipeline in Run DVC pipeline step.\n",
    "3. Compare metrics with main branch and write the markdown report in the Write CML report step.\n",
    "4. Write the correct file in cml comment create command to create a comment in the PR."
   ]
  },
  {
   "cell_type": "code",
   "execution_count": 30,
   "id": "e14516bf-1c81-4665-a3c3-88c330541c62",
   "metadata": {},
   "outputs": [
    {
     "name": "stdout",
     "output_type": "stream",
     "text": [
      "name: comments-ml-example3-v2\n",
      "\n",
      "on:\n",
      "  pull_request:\n",
      "    branches: [\"master\", \"myfeature\"]\n",
      "\n",
      "permissions: write-all\n",
      "\n",
      "jobs:\n",
      "  train_and_test_model_ml3:\n",
      "    runs-on: ubuntu-latest\n",
      "    steps:\n",
      "      - name: Checkout\n",
      "        uses: actions/checkout@v4\n",
      "\n",
      "      - name: Setup Python\n",
      "        uses: actions/setup-python@v5\n",
      "        with:\n",
      "          python-version: 3.11.9\n",
      "\n",
      "      - name: Install Dependencies\n",
      "        run: |\n",
      "          pip install -r requirements.txt\n",
      "\n",
      "      - name: Train and test model\n",
      "        run: |\n",
      "          python ml-example2/preprocess_data.py\n",
      "          python ml-example2/train.py\n",
      "\n",
      "      - name: Setup DVC\n",
      "        uses: iterative/setup-dvc@v1\n",
      "\n",
      "      - name: Run DVC pipeline\n",
      "        run: dvc repro\n",
      "        \n",
      "      - name: Setup CML GitHub Actions\n",
      "        uses: iterative/setup-cml@v3\n",
      "\n",
      "      - name: Write CML report\n",
      "        env:\n",
      "          REPO_TOKEN: ${{secrets.GITHUB_TOKEN}}\n",
      "        run: |\n",
      "          echo \"# ML Example 3 (V.2)\" > report3-2.md\n",
      "          dvc metrics show --md >> report3-2.md\n",
      "          echo \"### Metrics comparison with master branch\" >> report3-2.md\n",
      "          git fetch --prune\n",
      "          dvc metrics diff --md --all >> report3-2.md\n",
      "          echo \"![Confusion Matrix Plot](ml-example3/evaluation-result/confusion_matrix.png)\" >> report3-2.md\n",
      "          cml comment create report3-2.md\n"
     ]
    }
   ],
   "source": [
    "!type .github\\workflows\\Comments-MLExample3V2.yml"
   ]
  },
  {
   "cell_type": "markdown",
   "id": "d244d086-2dfc-4bb7-80c3-39546fe62a71",
   "metadata": {},
   "source": [
    "## 4.2 Hyperparameter Tuning with DVC\n",
    "\n",
    "### Preparing the environment"
   ]
  },
  {
   "cell_type": "code",
   "execution_count": 85,
   "id": "5fb512af-1924-439f-85fe-30942c064812",
   "metadata": {},
   "outputs": [],
   "source": [
    "# Removing any previous `dvc.yaml` file\n",
    "# Removing any existing previous yml file\n",
    "!del dvc.yaml"
   ]
  },
  {
   "cell_type": "markdown",
   "id": "a7366312-e7f4-4b75-bf8c-964bff53df51",
   "metadata": {},
   "source": [
    "### Running the process manually"
   ]
  },
  {
   "cell_type": "code",
   "execution_count": 86,
   "id": "9519086e-99a7-41cf-a265-7d6020cb9d67",
   "metadata": {},
   "outputs": [
    {
     "name": "stdout",
     "output_type": "stream",
     "text": [
      "Fitting 5 folds for each of 9 candidates, totalling 45 fits\n",
      "[CV] END ....max_depth=10, n_estimators=2, random_state=1993; total time=   0.0s\n",
      "[CV] END ....max_depth=10, n_estimators=2, random_state=1993; total time=   0.0s\n",
      "[CV] END ....max_depth=10, n_estimators=2, random_state=1993; total time=   0.0s\n",
      "[CV] END ....max_depth=10, n_estimators=2, random_state=1993; total time=   0.0s\n",
      "[CV] END ....max_depth=10, n_estimators=2, random_state=1993; total time=   0.0s\n",
      "[CV] END ....max_depth=10, n_estimators=4, random_state=1993; total time=   0.0s\n",
      "[CV] END ....max_depth=10, n_estimators=4, random_state=1993; total time=   0.0s\n",
      "[CV] END ....max_depth=10, n_estimators=4, random_state=1993; total time=   0.0s\n",
      "[CV] END ....max_depth=10, n_estimators=4, random_state=1993; total time=   0.0s\n",
      "[CV] END ....max_depth=10, n_estimators=4, random_state=1993; total time=   0.0s\n",
      "[CV] END ....max_depth=10, n_estimators=5, random_state=1993; total time=   0.0s\n",
      "[CV] END ....max_depth=10, n_estimators=5, random_state=1993; total time=   0.0s\n",
      "[CV] END ....max_depth=10, n_estimators=5, random_state=1993; total time=   0.0s\n",
      "[CV] END ....max_depth=10, n_estimators=5, random_state=1993; total time=   0.0s\n",
      "[CV] END ....max_depth=10, n_estimators=5, random_state=1993; total time=   0.0s\n",
      "[CV] END ....max_depth=20, n_estimators=2, random_state=1993; total time=   0.0s\n",
      "[CV] END ....max_depth=20, n_estimators=2, random_state=1993; total time=   0.0s\n",
      "[CV] END ....max_depth=20, n_estimators=2, random_state=1993; total time=   0.0s\n",
      "[CV] END ....max_depth=20, n_estimators=2, random_state=1993; total time=   0.0s\n",
      "[CV] END ....max_depth=20, n_estimators=2, random_state=1993; total time=   0.0s\n",
      "[CV] END ....max_depth=20, n_estimators=4, random_state=1993; total time=   0.0s\n",
      "[CV] END ....max_depth=20, n_estimators=4, random_state=1993; total time=   0.0s\n",
      "[CV] END ....max_depth=20, n_estimators=4, random_state=1993; total time=   0.0s\n",
      "[CV] END ....max_depth=20, n_estimators=4, random_state=1993; total time=   0.0s\n",
      "[CV] END ....max_depth=20, n_estimators=4, random_state=1993; total time=   0.0s\n",
      "[CV] END ....max_depth=20, n_estimators=5, random_state=1993; total time=   0.0s\n",
      "[CV] END ....max_depth=20, n_estimators=5, random_state=1993; total time=   0.0s\n",
      "[CV] END ....max_depth=20, n_estimators=5, random_state=1993; total time=   0.0s\n",
      "[CV] END ....max_depth=20, n_estimators=5, random_state=1993; total time=   0.0s\n",
      "[CV] END ....max_depth=20, n_estimators=5, random_state=1993; total time=   0.0s\n",
      "[CV] END ....max_depth=50, n_estimators=2, random_state=1993; total time=   0.0s\n",
      "[CV] END ....max_depth=50, n_estimators=2, random_state=1993; total time=   0.0s\n",
      "[CV] END ....max_depth=50, n_estimators=2, random_state=1993; total time=   0.0s\n",
      "[CV] END ....max_depth=50, n_estimators=2, random_state=1993; total time=   0.0s\n",
      "[CV] END ....max_depth=50, n_estimators=2, random_state=1993; total time=   0.0s\n",
      "[CV] END ....max_depth=50, n_estimators=4, random_state=1993; total time=   0.0s\n",
      "[CV] END ....max_depth=50, n_estimators=4, random_state=1993; total time=   0.0s\n",
      "[CV] END ....max_depth=50, n_estimators=4, random_state=1993; total time=   0.0s\n",
      "[CV] END ....max_depth=50, n_estimators=4, random_state=1993; total time=   0.0s\n",
      "[CV] END ....max_depth=50, n_estimators=4, random_state=1993; total time=   0.0s\n",
      "[CV] END ....max_depth=50, n_estimators=5, random_state=1993; total time=   0.0s\n",
      "[CV] END ....max_depth=50, n_estimators=5, random_state=1993; total time=   0.0s\n",
      "[CV] END ....max_depth=50, n_estimators=5, random_state=1993; total time=   0.0s\n",
      "[CV] END ....max_depth=50, n_estimators=5, random_state=1993; total time=   0.0s\n",
      "[CV] END ....max_depth=50, n_estimators=5, random_state=1993; total time=   0.0s\n",
      "====================Best Hyperparameters==================\n",
      "{\n",
      "  \"max_depth\": 20,\n",
      "  \"n_estimators\": 5,\n",
      "  \"random_state\": 1993\n",
      "}\n",
      "==========================================================\n",
      "====================Test Set Metrics==================\n",
      "{\n",
      "  \"accuracy\": 0.9998,\n",
      "  \"precision\": 1.0,\n",
      "  \"recall\": 0.9993,\n",
      "  \"f1_score\": 0.9996\n",
      "}\n",
      "======================================================\n"
     ]
    }
   ],
   "source": [
    "!python .\\ml-example4\\preprocess_dataset.py\n",
    "!python .\\ml-example4\\hp_tuning.py\n",
    "!python .\\ml-example4\\train.py"
   ]
  },
  {
   "cell_type": "markdown",
   "id": "53b14a0b-5078-4ecd-a7d0-a52c93756c5b",
   "metadata": {},
   "source": [
    "### Working with DVC pipeline for ml-example3"
   ]
  },
  {
   "cell_type": "code",
   "execution_count": 87,
   "id": "86f9042b-e5c1-4140-bd3d-faab7557d612",
   "metadata": {},
   "outputs": [],
   "source": [
    "!python ml-example4/dvc_pipeline_creation.py"
   ]
  },
  {
   "cell_type": "code",
   "execution_count": 88,
   "id": "da9dbb32-171e-4480-90a5-469721981c53",
   "metadata": {},
   "outputs": [
    {
     "name": "stdout",
     "output_type": "stream",
     "text": [
      "stages:\n",
      "  preprocess:\n",
      "    cmd: python ml-example4/preprocess_dataset.py\n",
      "    deps:\n",
      "    - ml-example4/raw-data/weather.csv\n",
      "    - ml-example4/preprocess_dataset.py\n",
      "    - ml-example4/.env\n",
      "    - ml-example4/utils_and_constants.py\n",
      "    outs:\n",
      "    - ml-example4/processed-data/weather.csv\n",
      "  hp_tune:\n",
      "    cmd: python ml-example4/hp_tuning.py\n",
      "    deps:\n",
      "    - ml-example4/processed-data/weather.csv\n",
      "    - ml-example4/config/hp_config.json\n",
      "    - ml-example4/hp_tuning.py\n",
      "    outs:\n",
      "    - ml-example4/evaluation-result/rfc_best_params.json\n",
      "    - ml-example4/evaluation-result/hp_tuning_results.md:\n",
      "        cache: false\n",
      "  train:\n",
      "    cmd: python ml-example4/train.py\n",
      "    deps:\n",
      "    - ml-example4/metrics_and_plots.py\n",
      "    - ml-example4/model.py\n",
      "    - ml-example4/processed-data/weather.csv\n",
      "    - ml-example4/evaluation-result/rfc_best_params.json\n",
      "    - ml-example4/train.py\n",
      "    - ml-example4/.env\n",
      "    - ml-example4/utils_and_constants.py\n",
      "    outs:\n",
      "    - ml-example4/evaluation-result/confusion_matrix.png\n",
      "    metrics:\n",
      "      - ml-example4/evaluation-result/metrics.json:\n",
      "          cache: false\n",
      "    plots:\n",
      "      - ml-example4/evaluation-result/predictions.csv:\n",
      "          template: confusion_normalized\n",
      "          x: predicted_label\n",
      "          y: true_label\n",
      "          x_label: 'Predicted label'\n",
      "          y_label: 'True label'\n",
      "          title: Confusion matrix\n",
      "          cache: false\n"
     ]
    }
   ],
   "source": [
    "# Reviewing the dvc.yaml file\n",
    "!more dvc.yaml"
   ]
  },
  {
   "cell_type": "code",
   "execution_count": 89,
   "id": "1bedd434-84fd-4ace-891d-4283ee41d3ab",
   "metadata": {},
   "outputs": [
    {
     "name": "stdout",
     "output_type": "stream",
     "text": [
      "        +------------+     \n",
      "        | preprocess |     \n",
      "        +------------+     \n",
      "          **        **     \n",
      "        **            **   \n",
      "       *                ** \n",
      "+---------+               *\n",
      "| hp_tune |             ** \n",
      "+---------+           **   \n",
      "          **        **     \n",
      "            **    **       \n",
      "              *  *         \n",
      "           +-------+       \n",
      "           | train |       \n",
      "           +-------+       \n"
     ]
    }
   ],
   "source": [
    "# Reviewing the process\n",
    "!dvc dag"
   ]
  },
  {
   "cell_type": "code",
   "execution_count": 90,
   "id": "f7a5b9e3-41a7-4786-878a-d2ee7fd4c99c",
   "metadata": {},
   "outputs": [
    {
     "name": "stdout",
     "output_type": "stream",
     "text": [
      "Running stage 'preprocess':\n",
      "> python ml-example4/preprocess_dataset.py\n",
      "\n",
      "Running stage 'hp_tune':\n",
      "> python ml-example4/hp_tuning.py\n",
      "\n",
      "Running stage 'train':\n",
      "> python ml-example4/train.py\n",
      "Use `dvc push` to send your updates to remote storage.\n"
     ]
    }
   ],
   "source": [
    "# Reviewing the comands that the pipeline will execute:\n",
    "!dvc repro --dry --force"
   ]
  },
  {
   "cell_type": "code",
   "execution_count": 91,
   "id": "4d9c5229-b746-4519-bd95-cada01250163",
   "metadata": {},
   "outputs": [
    {
     "name": "stdout",
     "output_type": "stream",
     "text": [
      "Running stage 'preprocess':\n",
      "> python ml-example4/preprocess_dataset.py\n",
      "\n",
      "Running stage 'hp_tune':\n",
      "> python ml-example4/hp_tuning.py\n",
      "Fitting 5 folds for each of 9 candidates, totalling 45 fits\n",
      "[CV] END ....max_depth=10, n_estimators=2, random_state=1993; total time=   0.0s\n",
      "[CV] END ....max_depth=10, n_estimators=2, random_state=1993; total time=   0.0s\n",
      "[CV] END ....max_depth=10, n_estimators=2, random_state=1993; total time=   0.0s\n",
      "[CV] END ....max_depth=10, n_estimators=2, random_state=1993; total time=   0.0s\n",
      "[CV] END ....max_depth=10, n_estimators=2, random_state=1993; total time=   0.0s\n",
      "[CV] END ....max_depth=10, n_estimators=4, random_state=1993; total time=   0.0s\n",
      "[CV] END ....max_depth=10, n_estimators=4, random_state=1993; total time=   0.0s\n",
      "[CV] END ....max_depth=10, n_estimators=4, random_state=1993; total time=   0.0s\n",
      "[CV] END ....max_depth=10, n_estimators=4, random_state=1993; total time=   0.0s\n",
      "[CV] END ....max_depth=10, n_estimators=4, random_state=1993; total time=   0.0s\n",
      "[CV] END ....max_depth=10, n_estimators=5, random_state=1993; total time=   0.0s\n",
      "[CV] END ....max_depth=10, n_estimators=5, random_state=1993; total time=   0.0s\n",
      "[CV] END ....max_depth=10, n_estimators=5, random_state=1993; total time=   0.0s\n",
      "[CV] END ....max_depth=10, n_estimators=5, random_state=1993; total time=   0.0s\n",
      "[CV] END ....max_depth=10, n_estimators=5, random_state=1993; total time=   0.0s\n",
      "[CV] END ....max_depth=20, n_estimators=2, random_state=1993; total time=   0.0s\n",
      "[CV] END ....max_depth=20, n_estimators=2, random_state=1993; total time=   0.0s\n",
      "[CV] END ....max_depth=20, n_estimators=2, random_state=1993; total time=   0.0s\n",
      "[CV] END ....max_depth=20, n_estimators=2, random_state=1993; total time=   0.0s\n",
      "[CV] END ....max_depth=20, n_estimators=2, random_state=1993; total time=   0.0s\n",
      "[CV] END ....max_depth=20, n_estimators=4, random_state=1993; total time=   0.0s\n",
      "[CV] END ....max_depth=20, n_estimators=4, random_state=1993; total time=   0.0s\n",
      "[CV] END ....max_depth=20, n_estimators=4, random_state=1993; total time=   0.0s\n",
      "[CV] END ....max_depth=20, n_estimators=4, random_state=1993; total time=   0.0s\n",
      "[CV] END ....max_depth=20, n_estimators=4, random_state=1993; total time=   0.0s\n",
      "[CV] END ....max_depth=20, n_estimators=5, random_state=1993; total time=   0.0s\n",
      "[CV] END ....max_depth=20, n_estimators=5, random_state=1993; total time=   0.0s\n",
      "[CV] END ....max_depth=20, n_estimators=5, random_state=1993; total time=   0.0s\n",
      "[CV] END ....max_depth=20, n_estimators=5, random_state=1993; total time=   0.0s\n",
      "[CV] END ....max_depth=20, n_estimators=5, random_state=1993; total time=   0.0s\n",
      "[CV] END ....max_depth=50, n_estimators=2, random_state=1993; total time=   0.0s\n",
      "[CV] END ....max_depth=50, n_estimators=2, random_state=1993; total time=   0.0s\n",
      "[CV] END ....max_depth=50, n_estimators=2, random_state=1993; total time=   0.0s\n",
      "[CV] END ....max_depth=50, n_estimators=2, random_state=1993; total time=   0.0s\n",
      "[CV] END ....max_depth=50, n_estimators=2, random_state=1993; total time=   0.0s\n",
      "[CV] END ....max_depth=50, n_estimators=4, random_state=1993; total time=   0.0s\n",
      "[CV] END ....max_depth=50, n_estimators=4, random_state=1993; total time=   0.0s\n",
      "[CV] END ....max_depth=50, n_estimators=4, random_state=1993; total time=   0.0s\n",
      "[CV] END ....max_depth=50, n_estimators=4, random_state=1993; total time=   0.0s\n",
      "[CV] END ....max_depth=50, n_estimators=4, random_state=1993; total time=   0.0s\n",
      "[CV] END ....max_depth=50, n_estimators=5, random_state=1993; total time=   0.0s\n",
      "[CV] END ....max_depth=50, n_estimators=5, random_state=1993; total time=   0.0s\n",
      "[CV] END ....max_depth=50, n_estimators=5, random_state=1993; total time=   0.0s\n",
      "[CV] END ....max_depth=50, n_estimators=5, random_state=1993; total time=   0.0s\n",
      "[CV] END ....max_depth=50, n_estimators=5, random_state=1993; total time=   0.0s\n",
      "====================Best Hyperparameters==================\n",
      "{\n",
      "  \"max_depth\": 20,\n",
      "  \"n_estimators\": 5,\n",
      "  \"random_state\": 1993\n",
      "}\n",
      "==========================================================\n",
      "Updating lock file 'dvc.lock'\n",
      "\n",
      "Running stage 'train':\n",
      "> python ml-example4/train.py\n",
      "====================Test Set Metrics==================\n",
      "{\n",
      "  \"accuracy\": 0.9998,\n",
      "  \"precision\": 1.0,\n",
      "  \"recall\": 0.9993,\n",
      "  \"f1_score\": 0.9996\n",
      "}\n",
      "======================================================\n",
      "\n",
      "To track the changes with git, run:\n",
      "\n",
      "\tgit add dvc.lock\n",
      "\n",
      "To enable auto staging, run:\n",
      "\n",
      "\tdvc config core.autostage true\n",
      "Use `dvc push` to send your updates to remote storage.\n"
     ]
    }
   ],
   "source": [
    "# Running the dvc pipeline\n",
    "!dvc repro --force"
   ]
  },
  {
   "cell_type": "markdown",
   "id": "182f77cf-5184-4664-b15d-bbd89fbcd7e7",
   "metadata": {},
   "source": [
    "### Ex.4 - Adding Hyperparameter tuning to dvc.yaml\n",
    "In this exercise, your task is to define a hyperparameter tuning workflow. The python file hp_tuning.py is the script for hyperparameter training and takes the hyperparameter configuration file hp_config.json as an input to produce rfc_best_params.json as an output.\n",
    "\n",
    "The dvc.yaml file outlines the DVC workflow orchestrating the hyperparameter tuning and lists commands, dependencies, and outputs.\n",
    "\n",
    "NOTE: This exercise involves changing both hp_tuning.py and dvc.yaml. Both files have been opened for you in the editor.\n",
    "\n",
    "**Instruction:**\n",
    "    \n",
    "1. Set the hyperparameter tuning command running the python script hp_tuning.py in dvc.yaml.\n",
    "2. Specify the hyperparameter configuration hp_config.json in dvc.yaml, and in hp_tuning.py.\n",
    "3. Specify the hyperparameter training file hp_tuning.py in dvc.yaml as a dependency.\n",
    "4. Perform Grid Search Cross Validation on training data in hp_tuning.py.\n",
    "\n",
    "**Working with `MLExample4`**"
   ]
  },
  {
   "cell_type": "code",
   "execution_count": 92,
   "id": "8ff33df8-b9ad-4168-b19c-0037707c853d",
   "metadata": {},
   "outputs": [
    {
     "name": "stdout",
     "output_type": "stream",
     "text": [
      "stages:\n",
      "  preprocess:\n",
      "    cmd: python ml-example4/preprocess_dataset.py\n",
      "    deps:\n",
      "    - ml-example4/raw-data/weather.csv\n",
      "    - ml-example4/preprocess_dataset.py\n",
      "    - ml-example4/.env\n",
      "    - ml-example4/utils_and_constants.py\n",
      "    outs:\n",
      "    - ml-example4/processed-data/weather.csv\n",
      "  hp_tune:\n",
      "    cmd: python ml-example4/hp_tuning.py\n",
      "    deps:\n",
      "    - ml-example4/processed-data/weather.csv\n",
      "    - ml-example4/config/hp_config.json\n",
      "    - ml-example4/hp_tuning.py\n",
      "    outs:\n",
      "    - ml-example4/evaluation-result/rfc_best_params.json\n",
      "    - ml-example4/evaluation-result/hp_tuning_results.md:\n",
      "        cache: false\n",
      "  train:\n",
      "    cmd: python ml-example4/train.py\n",
      "    deps:\n",
      "    - ml-example4/metrics_and_plots.py\n",
      "    - ml-example4/model.py\n",
      "    - ml-example4/processed-data/weather.csv\n",
      "    - ml-example4/evaluation-result/rfc_best_params.json\n",
      "    - ml-example4/train.py\n",
      "    - ml-example4/.env\n",
      "    - ml-example4/utils_and_constants.py\n",
      "    outs:\n",
      "    - ml-example4/evaluation-result/confusion_matrix.png\n",
      "    metrics:\n",
      "      - ml-example4/evaluation-result/metrics.json:\n",
      "          cache: false\n",
      "    plots:\n",
      "      - ml-example4/evaluation-result/predictions.csv:\n",
      "          template: confusion_normalized\n",
      "          x: predicted_label\n",
      "          y: true_label\n",
      "          x_label: 'Predicted label'\n",
      "          y_label: 'True label'\n",
      "          title: Confusion matrix\n",
      "          cache: false\n"
     ]
    }
   ],
   "source": [
    "# Reviewing the dvc.yaml file\n",
    "!more dvc.yaml"
   ]
  },
  {
   "cell_type": "markdown",
   "id": "ee04105f-fd09-4962-bf60-fdf524b72b5f",
   "metadata": {},
   "source": [
    "### Ex.5 - Running Hyperparameter tuning DVC pipelines\n",
    "\n",
    "In this exercise, you will run the hyperparameter training and model training targets outlined in the dvc.yaml pipeline. The dvc.yaml file outlines the DVC workflow orchestrating the jobs and lists commands, dependencies, and outputs.\n",
    "\n",
    "You will experiment with running these pipelines independently and observe the interaction between the two via the best parameter configuration file rfc_best_params.json.\n",
    "\n",
    "In your design, this file is meant to be edited manually for training jobs or, alternatively, as an output of a hyperparameter tuning job.\n",
    "\n",
    "The dvc.yaml file outlines the DVC workflow orchestrating the hyperparameter tuning and listings commands, dependencies, and outputs.\n",
    "\n",
    "NOTE: You will start working on the main branch. Git and DVC are already initialized for you.\n",
    "\n",
    "**Instruction:**\n",
    "                                                                                    \n",
    "1. Run DVC training pipeline (target name train) and observe changes in metrics.json (values should be populated).\n",
    "2. Commit changes with git add . && git commit -m \"train on main\".\n",
    "3. Checkout new branch git checkout -b hp_tune_and_train and force run DVC hyperparameter tuning pipeline (target name hp_tune); results file hp_tuning_results.md should now appear in file browser.\n",
    "4. Run DVC training pipeline again, and compare metrics with main branch using DVC using dvc metrics diff command\n",
    "\n",
    "------------------\n",
    "```\n",
    "dvc repro train\n",
    "git add . && git commit -m \"train on main\"\n",
    "git checkout -b hp_tune_and_train\n",
    "dvc repro -f hp_tune\n",
    "dvc repro train\n",
    "dvc metrics diff\n",
    "dvc metrics diff main\n",
    "```"
   ]
  },
  {
   "cell_type": "code",
   "execution_count": 93,
   "id": "9153704e-193e-4705-ba75-9f1fc580c8e5",
   "metadata": {},
   "outputs": [
    {
     "name": "stdout",
     "output_type": "stream",
     "text": [
      "Path                                        Metric     HEAD    workspace    Change\n",
      "ml-example4\\evaluation-result\\metrics.json  accuracy   0.9998  0.9998       0.0\n",
      "ml-example4\\evaluation-result\\metrics.json  f1_score   0.9996  0.9996       0.0\n",
      "ml-example4\\evaluation-result\\metrics.json  precision  1.0     1.0          0.0\n",
      "ml-example4\\evaluation-result\\metrics.json  recall     0.9993  0.9993       0.0\n"
     ]
    }
   ],
   "source": [
    "!dvc metrics diff --all"
   ]
  },
  {
   "cell_type": "markdown",
   "id": "b4d81dcb-4223-4241-8c16-7b6f8ffedd84",
   "metadata": {},
   "source": [
    "## 4.3 GitHub Actions workflow for Hyperparameter Tuning\n",
    "\n",
    "```\n",
    "name: comments-ml-example4\n",
    "\n",
    "on:\n",
    "  # Only trigger, when `comments-ml-example3` and `comments-ml-example3-v2` workflows succeeded\n",
    "  workflow_run:\n",
    "    workflows: \n",
    "      - comments-ml-example3\n",
    "      - comments-ml-example3-v2\n",
    "    types:\n",
    "      - completed\n",
    "  pull_request:\n",
    "    branches: [\"**\"]\n",
    "\n",
    "permissions: write-all\n",
    "\n",
    "jobs:\n",
    "  train_and_test_model_ml4:\n",
    "    runs-on: ubuntu-latest\n",
    "    steps:\n",
    "      - name: Checkout\n",
    "        uses: actions/checkout@v4\n",
    "\n",
    "      - name: Setup Python\n",
    "        uses: actions/setup-python@v5\n",
    "        with:\n",
    "          python-version: 3.11.9\n",
    "\n",
    "      - name: Install Dependencies\n",
    "        run: |\n",
    "          pip install -r requirements.txt\n",
    "\n",
    "      - name: Train and test model\n",
    "        run: |\n",
    "          python ml-example4/preprocess_dataset.py\n",
    "          python ml-example4/hp_tuning.py\n",
    "          python ml-example4/train.py\n",
    "\n",
    "      - name: Create DVC pipeline\n",
    "        run: |\n",
    "          python ml-example4/dvc_pipeline_creation.py\n",
    "\n",
    "      - name: Setup DVC\n",
    "        uses: iterative/setup-dvc@v1\n",
    "\n",
    "      - name: Run DVC pipeline\n",
    "        run: dvc repro --force\n",
    "        \n",
    "      - name: Setup CML GitHub Actions\n",
    "        uses: iterative/setup-cml@v3\n",
    "\n",
    "      - name: Write CML report\n",
    "        env:\n",
    "          REPO_TOKEN: ${{secrets.GITHUB_TOKEN}}\n",
    "        run: |\n",
    "          cat ml-example4/evaluation-result/hp_tuning_results.md >> report4.md\n",
    "          echo \"### Metrics comparison with master branch\" >> report4.md\n",
    "          dvc metrics diff --all --md >> report4.md\n",
    "          echo \"![Confusion Matrix Plot](ml-example4/evaluation-result/confusion_matrix.png)\" >> report4.md\n",
    "          cml comment create report4.md\n",
    "\n",
    "```"
   ]
  },
  {
   "cell_type": "markdown",
   "id": "613313d6-6ed5-42fc-8eae-ec4e4b20605a",
   "metadata": {},
   "source": [
    "### Ex.6 - Setup Hyperparameter Tuning in GitHub Actions\n",
    "Imagine a repository with the structure shown in the editor. Your task is to finish the scaffolded .github/workflows/hp_cml.yaml to accomplish the hyperparameter tuning and open a new pull request from a new training branch to main that will run the training pipeline by reading best hyperparameters from rfc_best_params.json.\n",
    "\n",
    "By convention, hyperparameter tuning branches start with hp_tune/ and training branches start with train/.\n",
    "\n",
    "Ide Exercise Instruction\n",
    "100XP\n",
    "Guard the hyperparameter tuning job so that it only gets triggered from the correct head branch prefix hp_tune/.\n",
    "Write the correct cml subcommand to create a pull request.\n",
    "Write the correct prefix for the new head (model training) branch and target branch (where code is merged) in the cml subcommand.\n",
    "Write the JSON output file from the hyperparameter tuning job in the cml subcommand."
   ]
  },
  {
   "cell_type": "markdown",
   "id": "09ab1d9c-efb7-40a8-b0d7-dae740571913",
   "metadata": {},
   "source": [
    "**hp_cml.yaml**\n",
    "\n",
    "-------------------------------\n",
    "\n",
    "```\n",
    "name: hp-tuning\n",
    "\n",
    "on:\n",
    "  pull_request:\n",
    "    branches: main\n",
    "\n",
    "permissions: write-all\n",
    "\n",
    "jobs:\n",
    "  hp_tune:\n",
    "    # Only run job if the current repository\n",
    "    # starts with the right prefix\n",
    "    if: startsWith(github.head_ref, 'hp_tune/')\n",
    "    runs-on: ubuntu-latest\n",
    "    steps:\n",
    "      - name: Checkout \n",
    "        uses: actions/checkout@v3\n",
    "      \n",
    "      - name: Setup Python\n",
    "        uses: actions/setup-python@v4\n",
    "        with:\n",
    "          python-version: 3.9\n",
    "\n",
    "      - name: Setup DVC\n",
    "        uses: iterative/setup-dvc@v1\n",
    "\n",
    "      - name: Setup CML\n",
    "        uses: iterative/setup-cml@v1\n",
    "\n",
    "      - name: Install dependencies\n",
    "        run: pip install -r requirements.txt\n",
    "\n",
    "      - name: Run DVC pipeline\n",
    "        run: |\n",
    "          dvc repro -f hp_tune\n",
    "      \n",
    "      - name: Create training branch\n",
    "        env:\n",
    "          REPO_TOKEN: ${{ secrets.GITHUB_TOKEN }}\n",
    "        run: |\n",
    "          # Finish the create pull request command\n",
    "          cml pr create \\\n",
    "          --user-email hp-bot@cicd.ai \\\n",
    "          --user-name HPBot \\\n",
    "          --message \"HP tuning\" \\\n",
    "          # Write the new head branch name\n",
    "          --branch train/${{ github.sha }} \\\n",
    "          # Write the target branch name\n",
    "          --target-branch main \\\n",
    "          # Commit the hyperparameter job output file\n",
    "          rfc_best_params.json\n",
    "```\n",
    "\n",
    "-------------------------------"
   ]
  },
  {
   "cell_type": "markdown",
   "id": "36df0e90-652f-4d8b-9dcc-d501cfd07d34",
   "metadata": {},
   "source": [
    "**train.yaml**\n",
    "\n",
    "-------------------------------\n",
    "\n",
    "```\n",
    "name: train\n",
    "\n",
    "on:\n",
    "  pull_request:\n",
    "    branches: main\n",
    "\n",
    "permissions: write-all\n",
    "\n",
    "jobs:\n",
    "  train_and_publish_report:\n",
    "    if: startsWith(github.head_ref, 'train/')\n",
    "    runs-on: ubuntu-latest\n",
    "    steps:\n",
    "      - name: Checkout \n",
    "        uses: actions/checkout@v3\n",
    "      \n",
    "      - name: Setup Python\n",
    "        uses: actions/setup-python@v4\n",
    "        with:\n",
    "          python-version: 3.9\n",
    "\n",
    "      - name: Setup DVC\n",
    "        uses: iterative/setup-dvc@v1\n",
    "\n",
    "      - name: Setup CML\n",
    "        uses: iterative/setup-cml@v1\n",
    "\n",
    "      - name: Install dependencies\n",
    "        run: pip install -r requirements.txt\n",
    "\n",
    "      - name: Run DVC pipeline\n",
    "        run: |\n",
    "          dvc pull\n",
    "          dvc repro train\n",
    "      \n",
    "      - name: Create CML report\n",
    "        env:\n",
    "          REPO_TOKEN: ${{ secrets.GITHUB_TOKEN }}\n",
    "        run: |\n",
    "          git fetch --prune\n",
    "          dvc metrics diff --md main >> metrics_compare.md\n",
    "          cml comment create metrics_compare.md\n",
    "```"
   ]
  },
  {
   "cell_type": "markdown",
   "id": "7406743a-5025-4f5f-acd9-d5444d54d179",
   "metadata": {},
   "source": [
    "------------------------------"
   ]
  }
 ],
 "metadata": {
  "kernelspec": {
   "display_name": "Python 3 (ipykernel)",
   "language": "python",
   "name": "python3"
  },
  "language_info": {
   "codemirror_mode": {
    "name": "ipython",
    "version": 3
   },
   "file_extension": ".py",
   "mimetype": "text/x-python",
   "name": "python",
   "nbconvert_exporter": "python",
   "pygments_lexer": "ipython3",
   "version": "3.11.9"
  }
 },
 "nbformat": 4,
 "nbformat_minor": 5
}
