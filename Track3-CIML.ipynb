{
 "cells": [
  {
   "cell_type": "markdown",
   "id": "1a21a706-a28a-4a04-8e79-6f8701e07175",
   "metadata": {},
   "source": [
    "# 3. Continuous Integration in Machine Learning\n",
    "\n",
    "In this chapter, you'll explore the integration of machine learning model training into a GitHub Action pipeline using Continuous Machine Learning GitHub Action. You'll generate a comprehensive markdown report including model metrics and plots. You will also delve into data versioning in Machine Learning by adopting Data Version Control (DVC) to track data changes. The chapter also covers setting DVC remotes and dataset transfers. Finally, you'll explore DVC pipelines, configuring a DVC YAML file to orchestrate reproducible model training."
   ]
  },
  {
   "cell_type": "markdown",
   "id": "8e96b6d3-5776-4fea-bf3a-3e40d849a315",
   "metadata": {},
   "source": [
    "## 3.1 - Model training with GitHub Actions\n",
    "\n",
    "Working on ml-example model, we are going to add the result of the model evaluation to the pull request:\n",
    "\n",
    "```\n",
    "on:\n",
    "  pull_request:\n",
    "    branches:\n",
    "      - master\n",
    "      - myfeature\n",
    "\n",
    "jobs:\n",
    "  comment:\n",
    "    runs-on: ubuntu-latest\n",
    "    steps:\n",
    "      - uses: actions/github-script@v6\n",
    "        with:\n",
    "          github-token: ${{secrets.GITHUB_TOKEN}}\n",
    "          script: |\n",
    "            github.rest.issues.createComment({\n",
    "              issue_number: context.issue.number,\n",
    "              owner: context.repo.owner,\n",
    "              repo: context.repo.repo,\n",
    "              body: '👋 Thanks for reporting!'\n",
    "            })\n",
    "  ml-job:\n",
    "    runs-on: ubuntu-latest\n",
    "    steps:\n",
    "      - name: Checkout\n",
    "        uses: actions/checkout@v4\n",
    "      - name: Setup Python\n",
    "        uses: actions/setup-python@v5\n",
    "        with:\n",
    "          python-version: 3.11.9\n",
    "      - name: Install Dependencies\n",
    "        run: |\n",
    "          pip install -r requirements.txt\n",
    "      - uses: iterative/setup-cml@v3\n",
    "      - name: Train and Test model\n",
    "        run: |\n",
    "          python ml-example/train_and_test.py\n",
    "      - name: Write CML report\n",
    "        run: |\n",
    "          echo \"# ML Example 1\" > report.md\n",
    "          cat ml-example/result.txt >> report.md\n",
    "          echo \"![Confusion Matrix](ml-example/confusion-matrix.png)\" >> report.md\n",
    "          cml comment create report.md\n",
    "        env:\n",
    "          REPO_TOKEN: ${{secrets.GITHUB_TOKEN}}\n",
    "```"
   ]
  },
  {
   "cell_type": "markdown",
   "id": "221fe31a-3e2a-429e-abb9-17dde5b36cad",
   "metadata": {},
   "source": [
    "### Ex.1 - Develop a classification model\n",
    "In this exercise, you'll work with the weather dataset and develop a training code to predict rainfall for the next day. The preprocess_dataset.py contains helper functions to pre-process the dataset. Your task is to finish the scaffolded train.py to formulate a high-level model training flow.\n",
    "\n",
    "Model encapsulated into 'ml-example2/' folder."
   ]
  },
  {
   "cell_type": "code",
   "execution_count": 1,
   "id": "904b9106-ed94-422b-a50c-2ead82ecfeb6",
   "metadata": {},
   "outputs": [
    {
     "name": "stdout",
     "output_type": "stream",
     "text": [
      " Volume in drive C is Acer\n",
      " Volume Serial Number is 28AC-E997\n",
      "\n",
      " Directory of C:\\Users\\Jacqueline\\Documents\\projects\\CAMP-MLEngTrack\\14-CICD for Machine Learning\\ml-example2\n",
      "\n",
      "09/06/2024  05:56 PM    <DIR>          .\n",
      "09/07/2024  01:22 PM    <DIR>          ..\n",
      "09/07/2024  12:50 PM    <DIR>          evaluation-result\n",
      "09/06/2024  06:04 PM               540 metrics_and_plots.py\n",
      "09/06/2024  06:00 PM               959 model.py\n",
      "09/06/2024  05:56 PM             3,553 preprocess_data.py\n",
      "09/07/2024  12:50 PM    <DIR>          processed-data\n",
      "09/06/2024  05:46 PM    <DIR>          raw-data\n",
      "09/06/2024  05:58 PM             1,191 train.py\n",
      "09/06/2024  06:04 PM               613 utils_and_constants.py\n",
      "09/06/2024  06:05 PM    <DIR>          __pycache__\n",
      "               5 File(s)          6,856 bytes\n",
      "               6 Dir(s)  517,232,308,224 bytes free\n"
     ]
    }
   ],
   "source": [
    "!dir \"ml-example2/\""
   ]
  },
  {
   "cell_type": "markdown",
   "id": "b48c2a9f-a42d-4ff5-8530-9ed8c8af16e6",
   "metadata": {},
   "source": [
    "### Ex.2 - Your task is to finish the scaffolded .github/workflows/train_cml.yaml to formulate a high-level model training flow.\n",
    "\n",
    "**Instruction:**\n",
    "\n",
    "1. Setup CML GitHub Action iterative/setup-cml@v1.\n",
    "2. Add evaluation metrics data, metrics.json, to the markdown report in the Write CML report step.\n",
    "3. Add confusion matrix plot, confusion_matrix.png , to the markdown report in the Write CML report step.\n",
    "4. Write the correct cml comment subcommand to create a comment in the PR.\n",
    "\n",
    "---------\n",
    "\n",
    "```\n",
    "name: comments-ml-example2\n",
    "\n",
    "on:\n",
    "  pull_request:\n",
    "    branches: [\"master\", \"myfeature\"]\n",
    "\n",
    "permissions: write-all\n",
    "\n",
    "jobs:\n",
    "  train_and_test_model_ml2:\n",
    "    runs-on: ubuntu-latest\n",
    "    steps:\n",
    "      - name: Checkout\n",
    "        uses: actions/checkout@v4\n",
    "\n",
    "      - name: Setup Python\n",
    "        uses: actions/setup-python@v5\n",
    "        with:\n",
    "          python-version: 3.11.9\n",
    "\n",
    "      - name: Install Dependencies\n",
    "        run: |\n",
    "          pip install -r requirements.txt\n",
    "\n",
    "      - name: Train and test model\n",
    "        run: |\n",
    "          python ml-example2/preprocess_data.py\n",
    "          python ml-example2/train.py\n",
    "\n",
    "      - name: Setup CML GitHub Actions\n",
    "        uses: iterative/setup-cml@v3\n",
    "\n",
    "      - name: Write CML report\n",
    "        env:\n",
    "          REPO_TOKEN: ${{secrets.GITHUB_TOKEN}}\n",
    "        run: |\n",
    "          echo \"# ML Example 2\" > model_eval_report.md\n",
    "          cat ml-example2/evaluation-result/metrics.json >> model_eval_report.md\n",
    "          echo \"![Confusion Matrix Plot](ml-example2/evaluation-result/confusion_matrix.png)\" >> model_eval_report.md\n",
    "          cml comment create model_eval_report.md\n",
    "```"
   ]
  },
  {
   "cell_type": "markdown",
   "id": "4ba0ebac-9625-475c-9ed3-95826d831124",
   "metadata": {},
   "source": [
    "## 3.2 - Versioning datasets with Data Version Control\n",
    "\n",
    "### Ex.3 - Data versioning in action\n",
    "\n",
    "Data Version Control (DVC) provides a systematic approach to versioning data, a critical aspect often overlooked. With DVC, you can precisely track changes in your datasets, ensuring reproducibility, collaboration, and troubleshooting ease. It's your safeguard against data-related challenges, fostering trust and efficiency in your data-driven projects.\n",
    "\n",
    "In this exercise, you will practice initializing a DVC project and versioning a dataset. Git has already been initialized for this project.\n",
    "\n",
    "**Instruction:**\n",
    "\n",
    "1. Initialize DVC in the workspace.\n",
    "2. Verify that .dvcignore file and .dvc folder are present.\n",
    "3. Add dataset.csv to DVC and examine the contents of dataset.csv.dvc by opening it in the file editor.\n",
    "4. Verify that DVC cache is populated by running find .dvc/cache -type f command in terminal.\n",
    "\n",
    "---------------------"
   ]
  },
  {
   "cell_type": "code",
   "execution_count": 2,
   "id": "a3ac5977-14c9-4b66-b239-4a107fa1a1d5",
   "metadata": {},
   "outputs": [
    {
     "name": "stdout",
     "output_type": "stream",
     "text": [
      "D\t.dvc/.gitignore\n",
      "D\t.dvc/config\n",
      "M\tTrack3-CIML.ipynb\n",
      "D\tmy-remote-storage/files/md5/5a/799ba072f8399633fbd5b922d7c499\n",
      "D\tmy-remote-storage/files/md5/dc/ef62662b1736bc960c55d85071cbda\n",
      "D\tmy-remote-storage/files/md5/ec/916b9800512aebcd3824504c316d48\n"
     ]
    },
    {
     "name": "stderr",
     "output_type": "stream",
     "text": [
      "Already on 'myfeature'\n"
     ]
    },
    {
     "name": "stdout",
     "output_type": "stream",
     "text": [
      "  master\n",
      "* myfeature\n"
     ]
    }
   ],
   "source": [
    "# Confirming we are in myfeature branch\n",
    "!git checkout myfeature\n",
    "!git branch"
   ]
  },
  {
   "cell_type": "code",
   "execution_count": 3,
   "id": "3dd81e1c-b450-43a7-99b5-e38ef9b85743",
   "metadata": {},
   "outputs": [
    {
     "name": "stdout",
     "output_type": "stream",
     "text": [
      "        1 file(s) copied.\n"
     ]
    }
   ],
   "source": [
    "# Creating a new dataset\n",
    "!copy data-sources\\weather.csv data-sources\\dataset.csv"
   ]
  },
  {
   "cell_type": "code",
   "execution_count": 4,
   "id": "5c044a73-2c1f-4881-8c96-63c462c5620b",
   "metadata": {},
   "outputs": [
    {
     "name": "stdout",
     "output_type": "stream",
     "text": [
      "Initialized DVC repository.\n",
      "\n",
      "You can now commit the changes to git.\n",
      "\n",
      "+---------------------------------------------------------------------+\n",
      "|                                                                     |\n",
      "|        DVC has enabled anonymous aggregate usage analytics.         |\n",
      "|     Read the analytics documentation (and how to opt-out) here:     |\n",
      "|             <https://dvc.org/doc/user-guide/analytics>              |\n",
      "|                                                                     |\n",
      "+---------------------------------------------------------------------+\n",
      "\n",
      "What's next?\n",
      "------------\n",
      "- Check out the documentation: <https://dvc.org/doc>\n",
      "- Get help and share ideas: <https://dvc.org/chat>\n",
      "- Star us on GitHub: <https://github.com/iterative/dvc>\n"
     ]
    }
   ],
   "source": [
    "# Initializing DVC\n",
    "!dvc init"
   ]
  },
  {
   "cell_type": "code",
   "execution_count": null,
   "id": "075f1714-b280-496a-bbc8-5f4ad8636e47",
   "metadata": {},
   "outputs": [],
   "source": [
    "# We need to ensure that 'data-sources\\dataset.csv' is not tracked\n",
    "# - ml-example2\\processed-data\\weather.csv\n",
    "# - ml-example2\\evaluation-result\\metrics.json\n",
    "# - ml-example2\\evaluation-result\\confusion_matrix.png\n",
    "!git add ml-example2\\processed-data\\weather.csv\n",
    "!git commit -m \"Tracking ml-example2\\processed-data\\weather.csv\"\n",
    "!git rm -r --cached ml-example2\\processed-data\\weather.csv\n",
    "!git commit -m \"stop tracking ml-example2\\processed-data\\weather.csv\""
   ]
  },
  {
   "cell_type": "code",
   "execution_count": 5,
   "id": "424dcc58-eee1-472a-9c2e-dab53c90663c",
   "metadata": {},
   "outputs": [
    {
     "name": "stderr",
     "output_type": "stream",
     "text": [
      "\\u280b Checking graph\n",
      "\n",
      "ERROR:  output 'data-sources\\dataset.csv' is already tracked by SCM (e.g. Git).\n",
      "    You can remove it from Git, then add to DVC.\n",
      "        To stop tracking from Git:\n",
      "            git rm -r --cached 'data-sources\\dataset.csv'\n",
      "            git commit -m \"stop tracking data-sources\\dataset.csv\" \n"
     ]
    }
   ],
   "source": [
    "# Adding a datafile for versioning\n",
    "!dvc add data-sources/dataset.csv"
   ]
  },
  {
   "cell_type": "code",
   "execution_count": 6,
   "id": "81254664-024e-41ef-9eae-90a615f2fa8a",
   "metadata": {},
   "outputs": [
    {
     "name": "stderr",
     "output_type": "stream",
     "text": [
      "fatal: pathspec 'data-sources/dataset.csv.dvc' did not match any files\n"
     ]
    },
    {
     "name": "stdout",
     "output_type": "stream",
     "text": [
      "On branch myfeature\n",
      "Changes not staged for commit:\n",
      "  (use \"git add/rm <file>...\" to update what will be committed)\n",
      "  (use \"git restore <file>...\" to discard changes in working directory)\n",
      "\tmodified:   Track3-CIML.ipynb\n",
      "\tmodified:   data-sources/dataset.csv\n",
      "\tdeleted:    my-remote-storage/files/md5/5a/799ba072f8399633fbd5b922d7c499\n",
      "\tdeleted:    my-remote-storage/files/md5/8b/80f6484630c3b5b0dacaabc37afaf0\n",
      "\tdeleted:    my-remote-storage/files/md5/d4/1d8cd98f00b204e9800998ecf8427e\n",
      "\tdeleted:    my-remote-storage/files/md5/dc/ef62662b1736bc960c55d85071cbda\n",
      "\tdeleted:    my-remote-storage/files/md5/ec/916b9800512aebcd3824504c316d48\n",
      "\n",
      "no changes added to commit (use \"git add\" and/or \"git commit -a\")\n"
     ]
    }
   ],
   "source": [
    "!git add data-sources/dataset.csv.dvc\n",
    "!git commit -m \"dataset.csv.dvc added\""
   ]
  },
  {
   "cell_type": "code",
   "execution_count": 7,
   "id": "f2236086-8abe-419d-ae37-e5dd6721ae70",
   "metadata": {},
   "outputs": [
    {
     "name": "stderr",
     "output_type": "stream",
     "text": [
      "To https://github.com/jacesca/CICD-Workflow.git\n",
      "   35ca3b4..9ab0516  myfeature -> myfeature\n"
     ]
    }
   ],
   "source": [
    "!git push origin myfeature"
   ]
  },
  {
   "cell_type": "code",
   "execution_count": 8,
   "id": "ed2853f1-7c2c-4e08-a3e7-c28428b11ec1",
   "metadata": {},
   "outputs": [
    {
     "name": "stdout",
     "output_type": "stream",
     "text": [
      "dataset.csv\n",
      "weather.csv\n"
     ]
    }
   ],
   "source": [
    "# Reviewing what happened with the versioned dataset\n",
    "!dir data-sources\\ /b"
   ]
  },
  {
   "cell_type": "code",
   "execution_count": 9,
   "id": "e276c558-4194-4a35-84a7-545f4a6ebd42",
   "metadata": {},
   "outputs": [
    {
     "name": "stderr",
     "output_type": "stream",
     "text": [
      "Cannot access file C:\\Users\\Jacqueline\\Documents\\projects\\CAMP-MLEngTrack\\14-CICD for Machine Learning\\data-sources\\dataset.csv.dvc\n"
     ]
    }
   ],
   "source": [
    "# Reviewing the content of the new .dvc file\n",
    "!more data-sources\\dataset.csv.dvc"
   ]
  },
  {
   "cell_type": "code",
   "execution_count": 10,
   "id": "30d1d071-f9e5-4614-9af2-51f5d029540a",
   "metadata": {},
   "outputs": [
    {
     "name": "stderr",
     "output_type": "stream",
     "text": [
      "Cannot access file C:\\Users\\Jacqueline\\Documents\\projects\\CAMP-MLEngTrack\\14-CICD for Machine Learning\\data-sources\\.gitignore\n"
     ]
    }
   ],
   "source": [
    "# Reviewing the content of the .gitignore file\n",
    "# We observ that the current dataset.csv is excluded from git versioned\n",
    "!more data-sources\\.gitignore"
   ]
  },
  {
   "cell_type": "code",
   "execution_count": 11,
   "id": "2a7457a2-853f-43f8-a41f-596b54690b50",
   "metadata": {},
   "outputs": [
    {
     "name": "stderr",
     "output_type": "stream",
     "text": [
      "FINDSTR: Cannot open .\\.dvc\\cache\\files\\md5\\8b\\80f6484630c3b5b0dacaabc37afaf0\n"
     ]
    }
   ],
   "source": [
    "# The file was tracked in dvc\n",
    "!findstr /n .  .\\.dvc\\cache\\files\\md5\\8b\\80f6484630c3b5b0dacaabc37afaf0 | findstr \"^[0-5]:\""
   ]
  },
  {
   "cell_type": "markdown",
   "id": "cb08af55-f7c3-451f-a97e-831290418ea9",
   "metadata": {},
   "source": [
    "## 3.3 - Interacting with DVC remotes\n",
    "\n",
    "### Ex.4 - DVC remotes in action\n",
    "In this exercise, you'll learn how to set up and use DVC remotes to store and share your datasets securely. Whether it's a colleague across the globe or your future self working on the project, DVC remotes ensure that your data is readily accessible and up-to-date. This exercise already has DVC initialized and the dataset added to DVC cache. We will be limiting ourselves to DVC remotes set up on a local filesystem.\n",
    "\n",
    "The syntax for adding a default DVC remote is\n",
    "\n",
    "dvc remote add -d --local <remote_name> </path/to/folder>\n",
    "\n",
    "where -d indicates the default DVC remote, and --local indicates that the DVC remote is pointed locally.\n",
    "\n",
    "**Instruction:**\n",
    "\n",
    "1. Set up a local DVC remote named myremote pointed at /tmp/dvc/localremote and verify it is empty by examining output of ls /tmp/dvc/localremote.\n",
    "2. Examine the contents of .dvc/config.local, is the default set correctly to myremote?\n",
    "3. Run dvc push and verify that the local remote now contains the file.\n",
    "4. Run dvc pull and verify that \"Everything up to date\" appears as shell output.\n",
    "\n",
    "----------------\n",
    "\n",
    "```\n",
    "dvc remote add -d --local myremote /tmp/dvc/localremote\n",
    "cat .dvc/config\n",
    "dvc push\n",
    "dvc pull\n",
    "```"
   ]
  },
  {
   "cell_type": "code",
   "execution_count": 12,
   "id": "b5df8660-ec37-4e8f-837c-d74d63acc567",
   "metadata": {},
   "outputs": [
    {
     "name": "stdout",
     "output_type": "stream",
     "text": [
      "Setting 'myremote' as a default remote.\n"
     ]
    }
   ],
   "source": [
    "# Setting the default remote folder to track the changes on dataset\n",
    "!dvc remote add -d --local myremote .\\my-remote-storage\\ --force"
   ]
  },
  {
   "cell_type": "code",
   "execution_count": 13,
   "id": "3ac0a775-6042-47be-91ea-b688d8ac019d",
   "metadata": {},
   "outputs": [
    {
     "name": "stdout",
     "output_type": "stream",
     "text": [
      "[core]\n",
      "    remote = myremote\n",
      "['remote \"myremote\"']\n",
      "    url = ../my-remote-storage\n"
     ]
    }
   ],
   "source": [
    "# Reviewing the configuration result\n",
    "!more .dvc\\config.local"
   ]
  },
  {
   "cell_type": "code",
   "execution_count": 14,
   "id": "3404b519-db95-4335-9d22-ba24cb6f4404",
   "metadata": {},
   "outputs": [
    {
     "name": "stderr",
     "output_type": "stream",
     "text": [
      "WARNING: failed to collect 'workspace', skipping\n",
      "ERROR: failed to push data to the cloud - 'data-sources/dataset.csv' does not exist as an output or a stage name in 'dvc.yaml': Stage 'data-sources/dataset.csv' not found inside 'dvc.yaml' file\n"
     ]
    }
   ],
   "source": [
    "# Sending the tracked file\n",
    "!dvc push -r myremote data-sources\\dataset.csv"
   ]
  },
  {
   "cell_type": "code",
   "execution_count": 15,
   "id": "b72d27bf-5faa-4e81-b801-d79fdaa1c682",
   "metadata": {},
   "outputs": [
    {
     "name": "stderr",
     "output_type": "stream",
     "text": [
      "The system cannot find the path specified.\n"
     ]
    }
   ],
   "source": [
    "# What it is saved in remote storage?\n",
    "!dir my-remote-storage\\files\\md5\\8b\\80f6484630c3b5b0dacaabc37afaf0 /b"
   ]
  },
  {
   "cell_type": "code",
   "execution_count": 16,
   "id": "4ceebe08-c71f-4d03-8fc2-1b6d1be769dc",
   "metadata": {},
   "outputs": [
    {
     "name": "stdout",
     "output_type": "stream",
     "text": [
      "Everything is up to date.\n"
     ]
    },
    {
     "name": "stderr",
     "output_type": "stream",
     "text": [
      "WARNING: Some of the cache files do not exist neither locally nor on remote. Missing cache files:\n",
      "md5: 5a799ba072f8399633fbd5b922d7c499\n",
      "md5: dcef62662b1736bc960c55d85071cbda\n",
      "md5: ec916b9800512aebcd3824504c316d48\n"
     ]
    }
   ],
   "source": [
    "# Verifying if we are up to date\n",
    "!dvc pull"
   ]
  },
  {
   "cell_type": "code",
   "execution_count": 17,
   "id": "45624cc8-6988-4c49-b4eb-3d9fdfe15231",
   "metadata": {},
   "outputs": [],
   "source": [
    "# Making changes to the dataset\n",
    "!findstr /n .  data-sources\\dataset.csv | findstr \"^[0-9]:\" > data-sources\\dataset.csv"
   ]
  },
  {
   "cell_type": "code",
   "execution_count": 18,
   "id": "269cb852-6b85-486b-91ac-742247fe9468",
   "metadata": {},
   "outputs": [
    {
     "name": "stderr",
     "output_type": "stream",
     "text": [
      "\\u280b Checking graph\n",
      "\n",
      "ERROR:  output 'data-sources\\dataset.csv' is already tracked by SCM (e.g. Git).\n",
      "    You can remove it from Git, then add to DVC.\n",
      "        To stop tracking from Git:\n",
      "            git rm -r --cached 'data-sources\\dataset.csv'\n",
      "            git commit -m \"stop tracking data-sources\\dataset.csv\" \n"
     ]
    }
   ],
   "source": [
    "# Registering changes in dvc\n",
    "!dvc add data-sources\\dataset.csv"
   ]
  },
  {
   "cell_type": "code",
   "execution_count": 19,
   "id": "25763f09-9379-47fd-8a30-0e1e428bbb83",
   "metadata": {},
   "outputs": [
    {
     "name": "stderr",
     "output_type": "stream",
     "text": [
      "fatal: pathspec 'data-sources\\dataset.csv.dvc' did not match any files\n"
     ]
    },
    {
     "name": "stdout",
     "output_type": "stream",
     "text": [
      "On branch myfeature\n",
      "Changes not staged for commit:\n",
      "  (use \"git add/rm <file>...\" to update what will be committed)\n",
      "  (use \"git restore <file>...\" to discard changes in working directory)\n",
      "\tmodified:   Track3-CIML.ipynb\n",
      "\tdeleted:    my-remote-storage/files/md5/5a/799ba072f8399633fbd5b922d7c499\n",
      "\tdeleted:    my-remote-storage/files/md5/8b/80f6484630c3b5b0dacaabc37afaf0\n",
      "\tdeleted:    my-remote-storage/files/md5/d4/1d8cd98f00b204e9800998ecf8427e\n",
      "\tdeleted:    my-remote-storage/files/md5/dc/ef62662b1736bc960c55d85071cbda\n",
      "\tdeleted:    my-remote-storage/files/md5/ec/916b9800512aebcd3824504c316d48\n",
      "\n",
      "no changes added to commit (use \"git add\" and/or \"git commit -a\")\n"
     ]
    }
   ],
   "source": [
    "# Registering changes in Git\n",
    "!git add data-sources\\dataset.csv.dvc\n",
    "!git commit -m \"Dataset updates\""
   ]
  },
  {
   "cell_type": "code",
   "execution_count": 20,
   "id": "12cf3d6b-da23-4ba8-b1d3-59f22444b7ed",
   "metadata": {},
   "outputs": [
    {
     "name": "stderr",
     "output_type": "stream",
     "text": [
      "Everything up-to-date\n"
     ]
    }
   ],
   "source": [
    "# Push metadata to Git\n",
    "!git push origin myfeature"
   ]
  },
  {
   "cell_type": "code",
   "execution_count": 21,
   "id": "105ec856-eb92-418a-a86b-25257db7979b",
   "metadata": {},
   "outputs": [
    {
     "name": "stdout",
     "output_type": "stream",
     "text": [
      "Everything is up to date.\n"
     ]
    },
    {
     "name": "stderr",
     "output_type": "stream",
     "text": [
      "WARNING: Some of the cache files do not exist neither locally nor on remote. Missing cache files:\n",
      "md5: 5a799ba072f8399633fbd5b922d7c499\n",
      "md5: ec916b9800512aebcd3824504c316d48\n",
      "md5: dcef62662b1736bc960c55d85071cbda\n"
     ]
    }
   ],
   "source": [
    "# Upload changed data file\n",
    "# As we have a default remote folder, we do not need to specify\n",
    "!dvc push"
   ]
  },
  {
   "cell_type": "markdown",
   "id": "dd35aa34-62db-4d00-a938-67e45471a09a",
   "metadata": {},
   "source": [
    "## 3.4 DVC Pipelines"
   ]
  },
  {
   "cell_type": "code",
   "execution_count": 22,
   "id": "ffc916f9-94a3-4990-87df-60172f20bf2f",
   "metadata": {},
   "outputs": [
    {
     "name": "stdout",
     "output_type": "stream",
     "text": [
      "evaluation-result\n",
      "metrics_and_plots.py\n",
      "model.py\n",
      "preprocess_data.py\n",
      "processed-data\n",
      "raw-data\n",
      "train.py\n",
      "utils_and_constants.py\n",
      "__pycache__\n"
     ]
    }
   ],
   "source": [
    "# We are going to work with\n",
    "!dir ml-example2\\ /b"
   ]
  },
  {
   "cell_type": "code",
   "execution_count": 23,
   "id": "ca47b1d5-e009-4441-9c84-8f839a91be5e",
   "metadata": {},
   "outputs": [
    {
     "name": "stderr",
     "output_type": "stream",
     "text": [
      "ERROR: 'C:\\Users\\Jacqueline\\Documents\\projects\\CAMP-MLEngTrack\\14-CICD for Machine Learning\\data-sources\\dataset.csv.dvc' does not exist\n"
     ]
    }
   ],
   "source": [
    "# Removing previous tracking to start with a clean process\n",
    "!dvc remove data-sources\\dataset.csv.dvc"
   ]
  },
  {
   "cell_type": "code",
   "execution_count": 24,
   "id": "cc640ed5-8bfd-4241-bc58-aa53ec14425c",
   "metadata": {},
   "outputs": [
    {
     "name": "stderr",
     "output_type": "stream",
     "text": [
      "The following paths are ignored by one of your .gitignore files:\n",
      "ml-example2/processed-data/weather.csv\n",
      "hint: Use -f if you really want to add them.\n",
      "hint: Disable this message with \"git config advice.addIgnoredFile false\"\n"
     ]
    },
    {
     "name": "stdout",
     "output_type": "stream",
     "text": [
      "On branch myfeature\n",
      "Changes not staged for commit:\n",
      "  (use \"git add/rm <file>...\" to update what will be committed)\n",
      "  (use \"git restore <file>...\" to discard changes in working directory)\n",
      "\tmodified:   Track3-CIML.ipynb\n",
      "\tdeleted:    my-remote-storage/files/md5/5a/799ba072f8399633fbd5b922d7c499\n",
      "\tdeleted:    my-remote-storage/files/md5/8b/80f6484630c3b5b0dacaabc37afaf0\n",
      "\tdeleted:    my-remote-storage/files/md5/d4/1d8cd98f00b204e9800998ecf8427e\n",
      "\tdeleted:    my-remote-storage/files/md5/dc/ef62662b1736bc960c55d85071cbda\n",
      "\tdeleted:    my-remote-storage/files/md5/ec/916b9800512aebcd3824504c316d48\n",
      "\n",
      "no changes added to commit (use \"git add\" and/or \"git commit -a\")\n"
     ]
    },
    {
     "name": "stderr",
     "output_type": "stream",
     "text": [
      "fatal: pathspec 'ml-example2\\processed-data\\weather.csv' did not match any files\n"
     ]
    },
    {
     "name": "stdout",
     "output_type": "stream",
     "text": [
      "On branch myfeature\n",
      "Changes not staged for commit:\n",
      "  (use \"git add/rm <file>...\" to update what will be committed)\n",
      "  (use \"git restore <file>...\" to discard changes in working directory)\n",
      "\tmodified:   Track3-CIML.ipynb\n",
      "\tdeleted:    my-remote-storage/files/md5/5a/799ba072f8399633fbd5b922d7c499\n",
      "\tdeleted:    my-remote-storage/files/md5/8b/80f6484630c3b5b0dacaabc37afaf0\n",
      "\tdeleted:    my-remote-storage/files/md5/d4/1d8cd98f00b204e9800998ecf8427e\n",
      "\tdeleted:    my-remote-storage/files/md5/dc/ef62662b1736bc960c55d85071cbda\n",
      "\tdeleted:    my-remote-storage/files/md5/ec/916b9800512aebcd3824504c316d48\n",
      "\n",
      "no changes added to commit (use \"git add\" and/or \"git commit -a\")\n"
     ]
    },
    {
     "name": "stderr",
     "output_type": "stream",
     "text": [
      "The following paths are ignored by one of your .gitignore files:\n",
      "ml-example2/evaluation-result/metrics.json\n",
      "hint: Use -f if you really want to add them.\n",
      "hint: Disable this message with \"git config advice.addIgnoredFile false\"\n"
     ]
    },
    {
     "name": "stdout",
     "output_type": "stream",
     "text": [
      "On branch myfeature\n",
      "Changes not staged for commit:\n",
      "  (use \"git add/rm <file>...\" to update what will be committed)\n",
      "  (use \"git restore <file>...\" to discard changes in working directory)\n",
      "\tmodified:   Track3-CIML.ipynb\n",
      "\tdeleted:    my-remote-storage/files/md5/5a/799ba072f8399633fbd5b922d7c499\n",
      "\tdeleted:    my-remote-storage/files/md5/8b/80f6484630c3b5b0dacaabc37afaf0\n",
      "\tdeleted:    my-remote-storage/files/md5/d4/1d8cd98f00b204e9800998ecf8427e\n",
      "\tdeleted:    my-remote-storage/files/md5/dc/ef62662b1736bc960c55d85071cbda\n",
      "\tdeleted:    my-remote-storage/files/md5/ec/916b9800512aebcd3824504c316d48\n",
      "\n",
      "no changes added to commit (use \"git add\" and/or \"git commit -a\")\n"
     ]
    },
    {
     "name": "stderr",
     "output_type": "stream",
     "text": [
      "fatal: pathspec 'ml-example2\\evaluation-result\\metrics.json' did not match any files\n"
     ]
    },
    {
     "name": "stdout",
     "output_type": "stream",
     "text": [
      "On branch myfeature\n",
      "Changes not staged for commit:\n",
      "  (use \"git add/rm <file>...\" to update what will be committed)\n",
      "  (use \"git restore <file>...\" to discard changes in working directory)\n",
      "\tmodified:   Track3-CIML.ipynb\n",
      "\tdeleted:    my-remote-storage/files/md5/5a/799ba072f8399633fbd5b922d7c499\n",
      "\tdeleted:    my-remote-storage/files/md5/8b/80f6484630c3b5b0dacaabc37afaf0\n",
      "\tdeleted:    my-remote-storage/files/md5/d4/1d8cd98f00b204e9800998ecf8427e\n",
      "\tdeleted:    my-remote-storage/files/md5/dc/ef62662b1736bc960c55d85071cbda\n",
      "\tdeleted:    my-remote-storage/files/md5/ec/916b9800512aebcd3824504c316d48\n",
      "\n",
      "no changes added to commit (use \"git add\" and/or \"git commit -a\")\n"
     ]
    },
    {
     "name": "stderr",
     "output_type": "stream",
     "text": [
      "The following paths are ignored by one of your .gitignore files:\n",
      "ml-example2/evaluation-result/confusion_matrix.png\n",
      "hint: Use -f if you really want to add them.\n",
      "hint: Disable this message with \"git config advice.addIgnoredFile false\"\n"
     ]
    },
    {
     "name": "stdout",
     "output_type": "stream",
     "text": [
      "On branch myfeature\n",
      "Changes not staged for commit:\n",
      "  (use \"git add/rm <file>...\" to update what will be committed)\n",
      "  (use \"git restore <file>...\" to discard changes in working directory)\n",
      "\tmodified:   Track3-CIML.ipynb\n",
      "\tdeleted:    my-remote-storage/files/md5/5a/799ba072f8399633fbd5b922d7c499\n",
      "\tdeleted:    my-remote-storage/files/md5/8b/80f6484630c3b5b0dacaabc37afaf0\n",
      "\tdeleted:    my-remote-storage/files/md5/d4/1d8cd98f00b204e9800998ecf8427e\n",
      "\tdeleted:    my-remote-storage/files/md5/dc/ef62662b1736bc960c55d85071cbda\n",
      "\tdeleted:    my-remote-storage/files/md5/ec/916b9800512aebcd3824504c316d48\n",
      "\n",
      "no changes added to commit (use \"git add\" and/or \"git commit -a\")\n"
     ]
    },
    {
     "name": "stderr",
     "output_type": "stream",
     "text": [
      "fatal: pathspec 'ml-example2\\evaluation-result\\confusion_matrix.png' did not match any files\n"
     ]
    },
    {
     "name": "stdout",
     "output_type": "stream",
     "text": [
      "On branch myfeature\n",
      "Changes not staged for commit:\n",
      "  (use \"git add/rm <file>...\" to update what will be committed)\n",
      "  (use \"git restore <file>...\" to discard changes in working directory)\n",
      "\tmodified:   Track3-CIML.ipynb\n",
      "\tdeleted:    my-remote-storage/files/md5/5a/799ba072f8399633fbd5b922d7c499\n",
      "\tdeleted:    my-remote-storage/files/md5/8b/80f6484630c3b5b0dacaabc37afaf0\n",
      "\tdeleted:    my-remote-storage/files/md5/d4/1d8cd98f00b204e9800998ecf8427e\n",
      "\tdeleted:    my-remote-storage/files/md5/dc/ef62662b1736bc960c55d85071cbda\n",
      "\tdeleted:    my-remote-storage/files/md5/ec/916b9800512aebcd3824504c316d48\n",
      "\n",
      "no changes added to commit (use \"git add\" and/or \"git commit -a\")\n"
     ]
    }
   ],
   "source": [
    "# We need to ensure that the following files are not tracked\n",
    "# - ml-example2\\processed-data\\weather.csv\n",
    "# - ml-example2\\evaluation-result\\metrics.json\n",
    "# - ml-example2\\evaluation-result\\confusion_matrix.png\n",
    "!git add ml-example2\\processed-data\\weather.csv\n",
    "!git commit -m \"Tracking ml-example2\\processed-data\\weather.csv\"\n",
    "!git rm -r --cached ml-example2\\processed-data\\weather.csv\n",
    "!git commit -m \"stop tracking ml-example2\\processed-data\\weather.csv\"\n",
    "\n",
    "!git add ml-example2\\evaluation-result\\metrics.json\n",
    "!git commit -m \"Tracking ml-example2\\evaluation-result\\metrics.json\"\n",
    "!git rm -r --cached ml-example2\\evaluation-result\\metrics.json\n",
    "!git commit -m \"stop tracking ml-example2\\evaluation-result\\metrics.json\"\n",
    "\n",
    "!git add ml-example2\\evaluation-result\\confusion_matrix.png\n",
    "!git commit -m \"Tracking ml-example2\\evaluation-result\\confusion_matrix.png\"\n",
    "!git rm -r --cached ml-example2\\evaluation-result\\confusion_matrix.png\n",
    "!git commit -m \"stop tracking ml-example2\\evaluation-result\\confusion_matrix.png\""
   ]
  },
  {
   "cell_type": "code",
   "execution_count": 25,
   "id": "626ed146-130f-4a86-965d-298d696405a9",
   "metadata": {},
   "outputs": [],
   "source": [
    "# Removing any existing previous yml file\n",
    "!del dvc.yaml"
   ]
  },
  {
   "cell_type": "code",
   "execution_count": 26,
   "id": "d0682ebc-c721-40a2-940e-9137ac32ae54",
   "metadata": {},
   "outputs": [
    {
     "name": "stdout",
     "output_type": "stream",
     "text": [
      "Added stage 'preprocess' in 'dvc.yaml'\n",
      "\n",
      "To track the changes with git, run:\n",
      "\n",
      "\tgit add dvc.yaml\n",
      "\n",
      "To enable auto staging, run:\n",
      "\n",
      "\tdvc config core.autostage true\n",
      "Added stage 'train' in 'dvc.yaml'\n",
      "\n",
      "To track the changes with git, run:\n",
      "\n",
      "\tgit add dvc.yaml\n",
      "\n",
      "To enable auto staging, run:\n",
      "\n",
      "\tdvc config core.autostage true\n"
     ]
    }
   ],
   "source": [
    "# Preparing the DVC pipeline to execute ML Example 2\n",
    "!dvc stage add -n preprocess                             \\\n",
    "               -d ml-example2/raw-data/weather.csv       \\\n",
    "               -d ml-example2/preprocess_data.py         \\\n",
    "               -d ml-example2/utils_and_constants.py     \\\n",
    "               -o ml-example2/processed-data/weather.csv \\\n",
    "               python ml-example2/preprocess_data.py\n",
    "!dvc stage add -n train                                              \\\n",
    "               -d ml-example2/metrics_and_plots.py                   \\\n",
    "               -d ml-example2/model.py                               \\\n",
    "               -d ml-example2/processed-data/weather.csv             \\\n",
    "               -d ml-example2/train.py                               \\\n",
    "               -d ml-example2/utils_and_constants.py                 \\\n",
    "               -o ml-example2/evaluation-result/metrics.json         \\\n",
    "               -o ml-example2/evaluation-result/confusion_matrix.png \\\n",
    "               python ml-example2/train.py"
   ]
  },
  {
   "cell_type": "code",
   "execution_count": 27,
   "id": "b2e26956-64c4-4a0c-9411-a0e6b5d42bb5",
   "metadata": {},
   "outputs": [
    {
     "name": "stdout",
     "output_type": "stream",
     "text": [
      "+------------+ \n",
      "| preprocess | \n",
      "+------------+ \n",
      "       *       \n",
      "       *       \n",
      "       *       \n",
      "  +-------+    \n",
      "  | train |    \n",
      "  +-------+    \n"
     ]
    }
   ],
   "source": [
    "# Reviewing the process\n",
    "!dvc dag"
   ]
  },
  {
   "cell_type": "code",
   "execution_count": 28,
   "id": "45f301c0-3847-404b-a689-0e249f004c08",
   "metadata": {},
   "outputs": [
    {
     "name": "stdout",
     "output_type": "stream",
     "text": [
      "Running stage 'preprocess':\n",
      "> python ml-example2/preprocess_data.py\n",
      "\n",
      "Running stage 'train':\n",
      "> python ml-example2/train.py\n",
      "Use `dvc push` to send your updates to remote storage.\n"
     ]
    }
   ],
   "source": [
    "# Reviewing the comands that the pipeline will execute:\n",
    "!dvc repro --dry"
   ]
  },
  {
   "cell_type": "code",
   "execution_count": 29,
   "id": "c7757f29-3894-41f0-a2ba-cb760b42854a",
   "metadata": {},
   "outputs": [
    {
     "name": "stdout",
     "output_type": "stream",
     "text": [
      "Running stage 'preprocess':\n",
      "> python ml-example2/preprocess_data.py\n",
      "\n",
      "Running stage 'train':\n",
      "> python ml-example2/train.py\n",
      "====================Test Set Metrics==================\n",
      "{\n",
      "  \"accuracy\": 0.947,\n",
      "  \"precision\": 0.988,\n",
      "  \"recall\": 0.7702,\n",
      "  \"f1_score\": 0.8656\n",
      "}\n",
      "======================================================\n",
      "Use `dvc push` to send your updates to remote storage.\n"
     ]
    }
   ],
   "source": [
    "# Executing the pipeline\n",
    "!dvc repro"
   ]
  },
  {
   "cell_type": "code",
   "execution_count": 30,
   "id": "318c528c-453c-4c9a-8b7c-7bf74b471e80",
   "metadata": {},
   "outputs": [
    {
     "name": "stdout",
     "output_type": "stream",
     "text": [
      "3 files pushed\n"
     ]
    }
   ],
   "source": [
    "!dvc push"
   ]
  },
  {
   "cell_type": "code",
   "execution_count": 31,
   "id": "30d40e9e-9e12-44f5-81f7-f54a3a245d35",
   "metadata": {},
   "outputs": [
    {
     "name": "stderr",
     "output_type": "stream",
     "text": [
      "warning: in the working copy of 'Track3-CIML.ipynb', LF will be replaced by CRLF the next time Git touches it\n"
     ]
    }
   ],
   "source": [
    "!git add ."
   ]
  },
  {
   "cell_type": "code",
   "execution_count": 32,
   "id": "e6b3e274-5bc0-49a4-9a7d-e0647c4eb56b",
   "metadata": {},
   "outputs": [
    {
     "name": "stdout",
     "output_type": "stream",
     "text": [
      "[myfeature 02be940] DVC Pipeline Testing\n",
      " 3 files changed, 50 insertions(+), 25003 deletions(-)\n",
      " delete mode 100644 my-remote-storage/files/md5/8b/80f6484630c3b5b0dacaabc37afaf0\n",
      " delete mode 100644 my-remote-storage/files/md5/d4/1d8cd98f00b204e9800998ecf8427e\n"
     ]
    }
   ],
   "source": [
    "!git commit -m \"DVC Pipeline Testing\""
   ]
  },
  {
   "cell_type": "markdown",
   "id": "c6be20e6-d35b-4bdf-a123-facec66c344a",
   "metadata": {},
   "source": [
    "### Ex.5 - Creating a DVC pipeline\n",
    "\n",
    "Imagine a simple example of a workflow where a document is printed and then scanned to create a signed PDF document, with DVC managing the dependencies and outputs of each stage.\n",
    "\n",
    "The print stage depends on printing instructions outlined in print.sh and produces the pages output. The scan stage depends on instructions in scan.sh and pages (output of printer) and produces a signed.pdf output.\n",
    "\n",
    "Your task is to design a DVC pipeline outlining the workflow using the dvc stage add command. Its syntax is\n",
    "```\n",
    "$ dvc stage add -n <stage_name> -d <dependency> -o <output> <command>\n",
    "```\n",
    "You can add multiple dependencies and outputs with repeated use of -d and -o flags, respectively.\n",
    "\n",
    "NOTE: DVC has already been initialized in the exercise setup. There is no need to run dvc init again.\n",
    "\n",
    "**Instruction:**\n",
    "\n",
    "1. Design the print stage with print.sh as a dependency, pages as output, and ./print.sh as command.\n",
    "2. Design the scan stage with scan.sh and pages as dependencies, signed.pdf as output, and ./scan.sh as command.\n",
    "3. Verify dvc.yaml is written correctly.\n",
    "4. Visualize the pipeline with dvc dag.\n",
    "\n",
    "\n",
    "------------------------------------\n",
    "```\n",
    "$ dvc stage add -n print -d print.sh -o pages ./print.sh\n",
    "$ dvc stage add -n scan -d scan.sh -d pages -o signed.pdf ./scan.sh\n",
    "```\n",
    "\n",
    "-------------------------------------\n",
    "**dvc.yaml** file:\n",
    "\n",
    "```\n",
    "stages:\n",
    "  print:\n",
    "    cmd: ./print.sh\n",
    "    deps:\n",
    "    - print.sh\n",
    "    outs:\n",
    "    - pages\n",
    "  scan:\n",
    "    cmd: ./scan.sh\n",
    "    deps:\n",
    "    - pages\n",
    "    - scan.sh\n",
    "    outs:\n",
    "    - signed.pdf\n",
    "```\n",
    "\n",
    "-------------------------------------\n",
    "```\n",
    "$ dvc dag\n",
    "+-------+  \n",
    "| print |  \n",
    "+-------+  \n",
    "    *      \n",
    "    *      \n",
    "    *      \n",
    "+------+   \n",
    "| scan |   \n",
    "+------+ \n",
    "```"
   ]
  },
  {
   "cell_type": "markdown",
   "id": "a0d7ca9e-b518-468a-9426-be14e93777f8",
   "metadata": {},
   "source": [
    "------------------"
   ]
  }
 ],
 "metadata": {
  "kernelspec": {
   "display_name": "Python 3 (ipykernel)",
   "language": "python",
   "name": "python3"
  },
  "language_info": {
   "codemirror_mode": {
    "name": "ipython",
    "version": 3
   },
   "file_extension": ".py",
   "mimetype": "text/x-python",
   "name": "python",
   "nbconvert_exporter": "python",
   "pygments_lexer": "ipython3",
   "version": "3.11.9"
  }
 },
 "nbformat": 4,
 "nbformat_minor": 5
}
