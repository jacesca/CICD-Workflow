{
 "cells": [
  {
   "cell_type": "markdown",
   "id": "1a21a706-a28a-4a04-8e79-6f8701e07175",
   "metadata": {},
   "source": [
    "# Continuous Integration in Machine Learning\n",
    "\n",
    "In this chapter, you'll explore the integration of machine learning model training into a GitHub Action pipeline using Continuous Machine Learning GitHub Action. You'll generate a comprehensive markdown report including model metrics and plots. You will also delve into data versioning in Machine Learning by adopting Data Version Control (DVC) to track data changes. The chapter also covers setting DVC remotes and dataset transfers. Finally, you'll explore DVC pipelines, configuring a DVC YAML file to orchestrate reproducible model training."
   ]
  },
  {
   "cell_type": "markdown",
   "id": "8e96b6d3-5776-4fea-bf3a-3e40d849a315",
   "metadata": {},
   "source": [
    "## Model training with GitHub Actions\n",
    "\n",
    "Working on ml-example model, we are going to add the result of the model evaluation to the pull request:\n",
    "\n",
    "```\n",
    "on:\n",
    "  pull_request:\n",
    "    branches:\n",
    "      - master\n",
    "      - myfeature\n",
    "\n",
    "jobs:\n",
    "  comment:\n",
    "    runs-on: ubuntu-latest\n",
    "    steps:\n",
    "      - uses: actions/github-script@v6\n",
    "        with:\n",
    "          github-token: ${{secrets.GITHUB_TOKEN}}\n",
    "          script: |\n",
    "            github.rest.issues.createComment({\n",
    "              issue_number: context.issue.number,\n",
    "              owner: context.repo.owner,\n",
    "              repo: context.repo.repo,\n",
    "              body: '👋 Thanks for reporting!'\n",
    "            })\n",
    "  ml-job:\n",
    "    runs-on: ubuntu-latest\n",
    "    steps:\n",
    "      - name: Checkout\n",
    "        uses: actions/checkout@v4\n",
    "      - name: Setup Python\n",
    "        uses: actions/setup-python@v5\n",
    "        with:\n",
    "          python-version: 3.11.9\n",
    "      - name: Install Dependencies\n",
    "        run: |\n",
    "          pip install -r requirements.txt\n",
    "      - uses: iterative/setup-cml@v3\n",
    "      - name: Train and Test model\n",
    "        run: |\n",
    "          python ml-example/train_and_test.py\n",
    "      - name: Write CML report\n",
    "        run: |\n",
    "          cat ml-example/result.txt > report.md\n",
    "          echo \"![Confusion Matrix](ml-example/confusion-matrix.png)\" >> report.md\n",
    "          cml comment create report.md\n",
    "        env:\n",
    "          REPO_TOKEN: ${{secrets.GITHUB_TOKEN}}\n",
    "\n",
    "```"
   ]
  },
  {
   "cell_type": "markdown",
   "id": "221fe31a-3e2a-429e-abb9-17dde5b36cad",
   "metadata": {},
   "source": [
    "## Ex.1 - Develop a classification model\n",
    "In this exercise, you'll work with the weather dataset and develop a training code to predict rainfall for the next day. The preprocess_dataset.py contains helper functions to pre-process the dataset. Your task is to finish the scaffolded train.py to formulate a high-level model training flow.\n",
    "\n",
    "Model encapsulated into 'ml-example2/' folder."
   ]
  },
  {
   "cell_type": "code",
   "execution_count": 3,
   "id": "904b9106-ed94-422b-a50c-2ead82ecfeb6",
   "metadata": {},
   "outputs": [
    {
     "name": "stdout",
     "output_type": "stream",
     "text": [
      " Volume in drive C is Acer\n",
      " Volume Serial Number is 28AC-E997\n",
      "\n",
      " Directory of C:\\Users\\Jacqueline\\Documents\\projects\\CAMP-MLEngTrack\\14-CICD for Machine Learning\\ml-example2\n",
      "\n",
      "09/06/2024  05:56 PM    <DIR>          .\n",
      "09/06/2024  06:07 PM    <DIR>          ..\n",
      "09/06/2024  06:05 PM    <DIR>          evaluation-result\n",
      "09/06/2024  06:04 PM               540 metrics_and_plots.py\n",
      "09/06/2024  06:00 PM               959 model.py\n",
      "09/06/2024  05:56 PM             3,553 preprocess_data.py\n",
      "09/06/2024  05:56 PM    <DIR>          processed-data\n",
      "09/06/2024  05:46 PM    <DIR>          raw-data\n",
      "09/06/2024  05:58 PM             1,191 train.py\n",
      "09/06/2024  06:04 PM               613 utils_and_constants.py\n",
      "09/06/2024  06:05 PM    <DIR>          __pycache__\n",
      "               5 File(s)          6,856 bytes\n",
      "               6 Dir(s)  516,870,754,304 bytes free\n"
     ]
    }
   ],
   "source": [
    "!dir \"ml-example2/\""
   ]
  },
  {
   "cell_type": "markdown",
   "id": "b48c2a9f-a42d-4ff5-8530-9ed8c8af16e6",
   "metadata": {},
   "source": [
    "## Ex.2 - Your task is to finish the scaffolded .github/workflows/train_cml.yaml to formulate a high-level model training flow.\n",
    "\n",
    "NOTE: Use python3 instead of python to run Python scripts.\n",
    "\n",
    "Ide Exercise Instruction\n",
    "100XP\n",
    "Setup CML GitHub Action iterative/setup-cml@v1.\n",
    "Add evaluation metrics data, metrics.json, to the markdown report in the Write CML report step.\n",
    "Add confusion matrix plot, confusion_matrix.png , to the markdown report in the Write CML report step.\n",
    "Write the correct cml comment subcommand to create a comment in the PR."
   ]
  }
 ],
 "metadata": {
  "kernelspec": {
   "display_name": "Python 3 (ipykernel)",
   "language": "python",
   "name": "python3"
  },
  "language_info": {
   "codemirror_mode": {
    "name": "ipython",
    "version": 3
   },
   "file_extension": ".py",
   "mimetype": "text/x-python",
   "name": "python",
   "nbconvert_exporter": "python",
   "pygments_lexer": "ipython3",
   "version": "3.11.9"
  }
 },
 "nbformat": 4,
 "nbformat_minor": 5
}
