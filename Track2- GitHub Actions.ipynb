{
 "cells": [
  {
   "cell_type": "markdown",
   "id": "4b0bd91d-15ff-4dbb-a240-d984445e37b7",
   "metadata": {},
   "source": [
    "# GitHub Actions\n",
    "\n",
    "Get ready to explore GitHub Actions (GHA), an influential platform for executing CI/CD workflows. Uncover the diverse components of GHA, encompassing events, actions, jobs, steps, runners, and context. Gain insights into crafting workflows that activate upon events like push and pull requests, and tailor runner machines. Dive into hands-on learning as you establish fundamental CI pipelines and grasp the intricacies of the GHA log."
   ]
  },
  {
   "cell_type": "code",
   "execution_count": 3,
   "id": "8d77bdaa-b126-486c-8b26-d92f9e1ce941",
   "metadata": {},
   "outputs": [],
   "source": [
    "import yaml\n",
    "\n",
    "from pprint import pprint"
   ]
  },
  {
   "cell_type": "markdown",
   "id": "e16dba3c-9902-4f5f-8bb7-c8b6d58a0248",
   "metadata": {},
   "source": [
    "## 2.1 Intermediate YAML\n",
    "\n",
    "### Style indicators - literal `|`"
   ]
  },
  {
   "cell_type": "code",
   "execution_count": 26,
   "id": "1768be29-e1d9-4041-8274-9c93f2480c52",
   "metadata": {},
   "outputs": [
    {
     "name": "stdout",
     "output_type": "stream",
     "text": [
      "{'example': 'Several lines of text,\\n'\n",
      "            'with some \"quotes\" of various \\'types\\',\\n'\n",
      "            'and also a blank line:\\n'\n",
      "            '\\n'\n",
      "            'and some text with\\n'\n",
      "            '  extra indentation\\n'\n",
      "            'on the next line\\n'\n",
      "            'plus another line at the end.\\n'}\n",
      "-----------------------------------\n",
      "Several lines of text,\n",
      "with some \"quotes\" of various 'types',\n",
      "and also a blank line:\n",
      "\n",
      "and some text with\n",
      "  extra indentation\n",
      "on the next line\n",
      "plus another line at the end.\n",
      "\n",
      "-----------------------------------\n"
     ]
    },
    {
     "data": {
      "text/plain": [
       "'Several lines of text,\\nwith some \"quotes\" of various \\'types\\',\\nand also a blank line:\\n\\nand some text with\\n  extra indentation\\non the next line\\nplus another line at the end.\\n'"
      ]
     },
     "execution_count": 26,
     "metadata": {},
     "output_type": "execute_result"
    }
   ],
   "source": [
    "# preparing the data to review\n",
    "filename = \"YAMLexample/style-literal.yaml\"\n",
    "f = open(filename, \"w\")\n",
    "f.write(\"\"\"\n",
    "example: |\n",
    "  Several lines of text,\n",
    "  with some \"quotes\" of various 'types',\n",
    "  and also a blank line:\n",
    "  \n",
    "  and some text with\n",
    "    extra indentation\n",
    "  on the next line\n",
    "  plus another line at the end.\n",
    "  \n",
    "\"\"\")\n",
    "f.close()\n",
    "\n",
    "# Loading a yaml file\n",
    "with open(filename) as f:\n",
    "    d = yaml.safe_load(f)\n",
    "\n",
    "pprint(d)\n",
    "print('-----------------------------------')\n",
    "print(d['example'])\n",
    "print('-----------------------------------')\n",
    "d['example']"
   ]
  },
  {
   "cell_type": "markdown",
   "id": "6b9a2283-c55a-4242-8998-651b18a02fbe",
   "metadata": {},
   "source": [
    "### Style - fold `>`"
   ]
  },
  {
   "cell_type": "code",
   "execution_count": 27,
   "id": "860a8154-18fe-4078-a3fb-b5677dc1bde4",
   "metadata": {},
   "outputs": [
    {
     "name": "stdout",
     "output_type": "stream",
     "text": [
      "{'example': 'Several lines of text, with some \"quotes\" of various \\'types\\', '\n",
      "            'and also a blank line:\\n'\n",
      "            'and some text with\\n'\n",
      "            '  extra indentation\\n'\n",
      "            'on the next line plus another line at the end.\\n'}\n",
      "-----------------------------------\n",
      "Several lines of text, with some \"quotes\" of various 'types', and also a blank line:\n",
      "and some text with\n",
      "  extra indentation\n",
      "on the next line plus another line at the end.\n",
      "\n",
      "-----------------------------------\n"
     ]
    },
    {
     "data": {
      "text/plain": [
       "'Several lines of text, with some \"quotes\" of various \\'types\\', and also a blank line:\\nand some text with\\n  extra indentation\\non the next line plus another line at the end.\\n'"
      ]
     },
     "execution_count": 27,
     "metadata": {},
     "output_type": "execute_result"
    }
   ],
   "source": [
    "# preparing the data to review\n",
    "filename = \"YAMLexample/style-fold.yaml\"\n",
    "f = open(filename, \"w\")\n",
    "f.write(\"\"\"\n",
    "example: >\n",
    "  Several lines of text,\n",
    "  with some \"quotes\" of various 'types',\n",
    "  and also a blank line:\n",
    "  \n",
    "  and some text with\n",
    "    extra indentation\n",
    "  on the next line\n",
    "  plus another line at the end.\n",
    "  \n",
    "\"\"\")\n",
    "f.close()\n",
    "\n",
    "# Loading a yaml file\n",
    "with open(filename) as f:\n",
    "    d = yaml.safe_load(f)\n",
    "\n",
    "pprint(d)\n",
    "print('-----------------------------------')\n",
    "print(d['example'])\n",
    "print('-----------------------------------')\n",
    "d['example']"
   ]
  },
  {
   "cell_type": "markdown",
   "id": "f7524de1-8a94-4fb1-accc-997d39048591",
   "metadata": {},
   "source": [
    "### Style - Strip chomping `|-`"
   ]
  },
  {
   "cell_type": "code",
   "execution_count": 29,
   "id": "63be3901-6e8a-4c87-8a1d-34d2760d3481",
   "metadata": {},
   "outputs": [
    {
     "name": "stdout",
     "output_type": "stream",
     "text": [
      "{'example': 'Several lines of text,\\n'\n",
      "            'with some \"quotes\" of various \\'types\\',\\n'\n",
      "            'and also a blank line:\\n'\n",
      "            '\\n'\n",
      "            'and some text with\\n'\n",
      "            '  extra indentation\\n'\n",
      "            'on the next line\\n'\n",
      "            'plus another line at the end.'}\n",
      "-----------------------------------\n",
      "Several lines of text,\n",
      "with some \"quotes\" of various 'types',\n",
      "and also a blank line:\n",
      "\n",
      "and some text with\n",
      "  extra indentation\n",
      "on the next line\n",
      "plus another line at the end.\n",
      "-----------------------------------\n"
     ]
    },
    {
     "data": {
      "text/plain": [
       "'Several lines of text,\\nwith some \"quotes\" of various \\'types\\',\\nand also a blank line:\\n\\nand some text with\\n  extra indentation\\non the next line\\nplus another line at the end.'"
      ]
     },
     "execution_count": 29,
     "metadata": {},
     "output_type": "execute_result"
    }
   ],
   "source": [
    "# preparing the data to review\n",
    "filename = \"YAMLexample/style-strip.yaml\"\n",
    "f = open(filename, \"w\")\n",
    "f.write(\"\"\"\n",
    "example: |-\n",
    "  Several lines of text,\n",
    "  with some \"quotes\" of various 'types',\n",
    "  and also a blank line:\n",
    "  \n",
    "  and some text with\n",
    "    extra indentation\n",
    "  on the next line\n",
    "  plus another line at the end.\n",
    "  \n",
    "\"\"\")\n",
    "f.close()\n",
    "\n",
    "# Loading a yaml file\n",
    "with open(filename) as f:\n",
    "    d = yaml.safe_load(f)\n",
    "\n",
    "pprint(d)\n",
    "print('-----------------------------------')\n",
    "print(d['example'])\n",
    "print('-----------------------------------')\n",
    "d['example']"
   ]
  },
  {
   "cell_type": "markdown",
   "id": "1d87f1f4-208f-41fb-b83f-62f0e543895e",
   "metadata": {},
   "source": [
    "### Style - Keep choping `|+`"
   ]
  },
  {
   "cell_type": "code",
   "execution_count": 30,
   "id": "1d25d1aa-3c00-41aa-bddf-6df75dc5773b",
   "metadata": {},
   "outputs": [
    {
     "name": "stdout",
     "output_type": "stream",
     "text": [
      "{'example': 'Several lines of text,\\n'\n",
      "            'with some \"quotes\" of various \\'types\\',\\n'\n",
      "            'and also a blank line:\\n'\n",
      "            '\\n'\n",
      "            'and some text with\\n'\n",
      "            '  extra indentation\\n'\n",
      "            'on the next line\\n'\n",
      "            'plus another line at the end.\\n'\n",
      "            '\\n'}\n",
      "-----------------------------------\n",
      "Several lines of text,\n",
      "with some \"quotes\" of various 'types',\n",
      "and also a blank line:\n",
      "\n",
      "and some text with\n",
      "  extra indentation\n",
      "on the next line\n",
      "plus another line at the end.\n",
      "\n",
      "\n",
      "-----------------------------------\n"
     ]
    },
    {
     "data": {
      "text/plain": [
       "'Several lines of text,\\nwith some \"quotes\" of various \\'types\\',\\nand also a blank line:\\n\\nand some text with\\n  extra indentation\\non the next line\\nplus another line at the end.\\n\\n'"
      ]
     },
     "execution_count": 30,
     "metadata": {},
     "output_type": "execute_result"
    }
   ],
   "source": [
    "# preparing the data to review\n",
    "filename = \"YAMLexample/style-strip.yaml\"\n",
    "f = open(filename, \"w\")\n",
    "f.write(\"\"\"\n",
    "example: |+\n",
    "  Several lines of text,\n",
    "  with some \"quotes\" of various 'types',\n",
    "  and also a blank line:\n",
    "  \n",
    "  and some text with\n",
    "    extra indentation\n",
    "  on the next line\n",
    "  plus another line at the end.\n",
    "  \n",
    "\"\"\")\n",
    "f.close()\n",
    "\n",
    "# Loading a yaml file\n",
    "with open(filename) as f:\n",
    "    d = yaml.safe_load(f)\n",
    "\n",
    "pprint(d)\n",
    "print('-----------------------------------')\n",
    "print(d['example'])\n",
    "print('-----------------------------------')\n",
    "d['example']"
   ]
  },
  {
   "cell_type": "code",
   "execution_count": null,
   "id": "b6f5c31d-34fd-4066-bafc-a23e9a0be97e",
   "metadata": {},
   "outputs": [],
   "source": []
  },
  {
   "cell_type": "code",
   "execution_count": null,
   "id": "1ea36fa7-cc64-4acd-938c-7be635be1a12",
   "metadata": {},
   "outputs": [],
   "source": []
  },
  {
   "cell_type": "code",
   "execution_count": null,
   "id": "0e769c04-4adc-41e3-b631-9dfb766f6e13",
   "metadata": {},
   "outputs": [],
   "source": []
  },
  {
   "cell_type": "code",
   "execution_count": null,
   "id": "99bd8bc5-7da5-43eb-b231-b9273b888645",
   "metadata": {},
   "outputs": [],
   "source": []
  },
  {
   "cell_type": "code",
   "execution_count": null,
   "id": "b755c7a2-af9d-48d5-9695-d72f5dd7ef15",
   "metadata": {},
   "outputs": [],
   "source": []
  },
  {
   "cell_type": "code",
   "execution_count": null,
   "id": "bb74b111-e829-4490-b0e4-da2645697857",
   "metadata": {},
   "outputs": [],
   "source": []
  },
  {
   "cell_type": "code",
   "execution_count": null,
   "id": "0b145c90-e647-41e1-858c-9898cac17e47",
   "metadata": {},
   "outputs": [],
   "source": []
  },
  {
   "cell_type": "code",
   "execution_count": null,
   "id": "073c683a-5b50-4c11-bb68-c5c983deb1ec",
   "metadata": {},
   "outputs": [],
   "source": []
  },
  {
   "cell_type": "code",
   "execution_count": null,
   "id": "71210837-49a3-4eae-a26e-d6dc6acec578",
   "metadata": {},
   "outputs": [],
   "source": []
  },
  {
   "cell_type": "markdown",
   "id": "af40c390-d24f-49d9-b9dd-25a0f471f083",
   "metadata": {},
   "source": [
    "-----------"
   ]
  }
 ],
 "metadata": {
  "kernelspec": {
   "display_name": "Python 3 (ipykernel)",
   "language": "python",
   "name": "python3"
  },
  "language_info": {
   "codemirror_mode": {
    "name": "ipython",
    "version": 3
   },
   "file_extension": ".py",
   "mimetype": "text/x-python",
   "name": "python",
   "nbconvert_exporter": "python",
   "pygments_lexer": "ipython3",
   "version": "3.11.9"
  }
 },
 "nbformat": 4,
 "nbformat_minor": 5
}
